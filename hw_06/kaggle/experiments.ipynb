{
 "cells": [
  {
   "cell_type": "code",
   "execution_count": 1,
   "metadata": {
    "collapsed": true
   },
   "outputs": [],
   "source": [
    "import re # Регулярные выражения.\n",
    "from bs4 import BeautifulSoup \n",
    "import pymystem3\n",
    "import pandas as pd\n",
    "import numpy as np\n"
   ]
  },
  {
   "cell_type": "code",
   "execution_count": 2,
   "metadata": {},
   "outputs": [
    {
     "name": "stdout",
     "output_type": "stream",
     "text": [
      "['фрезеровщик', '\\t', 'условие', ':   ', 'на', ' ', 'работа', ' ', 'вахтовый', ' ', 'метод', ' ', 'в', ' ', 'г', '. ', 'калуга', ' ', 'требоваться', ' ', 'фрезеровщик', ', ', 'вахта', ' ', '60', '/', '30', ' (', '45', '/', '30', ')', '.', '\\n']\n[{'analysis': [{'lex': 'она', 'gr': 'SPRO,ед,3-л,жен=им'}], 'text': 'Она'}, {'text': ' '}, {'analysis': [{'lex': 'увидеть', 'gr': 'V,сов,пе=прош,ед,изъяв,жен'}], 'text': 'увидела'}, {'text': ' '}, {'analysis': [{'lex': 'он', 'gr': 'SPRO,ед,3-л,муж=(вин|род)'}], 'text': 'его'}, {'text': ' '}, {'analysis': [{'lex': 'в', 'gr': 'PR='}], 'text': 'в'}, {'text': ' '}, {'analysis': [{'lex': 'окно', 'gr': 'S,сред,неод=пр,ед'}], 'text': 'окне'}, {'text': ' '}, {'analysis': [{'lex': 'и', 'gr': 'CONJ='}], 'text': 'и'}, {'text': ' '}, {'analysis': [{'lex': 'обомлевать', 'gr': 'V,нп=прош,ед,изъяв,жен,сов'}], 'text': 'обомлела'}, {'text': ', '}, {'analysis': [{'lex': 'как', 'gr': 'CONJ='}], 'text': 'как'}, {'text': '  '}, {'analysis': [{'lex': 'чайник', 'gr': 'S,муж,неод=(вин,ед|им,ед)'}], 'text': 'чайник'}, {'text': '\\n'}]\n"
     ]
    }
   ],
   "source": [
    "mystem = pymystem3.Mystem()\n",
    "print(mystem.lemmatize(\"Фрезеровщик\tУсловия:   На работу вахтовым методом в г. Калуга требуются фрезеровщики, вахта 60/30 (45/30).\"))\n",
    "print(mystem.analyze(\"Она увидела его в окне и обомлела, как  чайник\"))"
   ]
  },
  {
   "cell_type": "code",
   "execution_count": 3,
   "metadata": {},
   "outputs": [
    {
     "name": "stdout",
     "output_type": "stream",
     "text": [
      "/home/anama/Projects/python/sfml/hw_06/kaggle\n"
     ]
    }
   ],
   "source": [
    "cd ./Projects/python/sfml/hw_06/kaggle/\n"
   ]
  },
  {
   "cell_type": "code",
   "execution_count": 24,
   "metadata": {
    "collapsed": true
   },
   "outputs": [
    {
     "ename": "KeyboardInterrupt",
     "evalue": "",
     "traceback": [
      "\u001b[0;31m---------------------------------------------------------------------------\u001b[0m",
      "\u001b[0;31mKeyboardInterrupt\u001b[0m                         Traceback (most recent call last)",
      "\u001b[0;32m<ipython-input-24-5ce1b9f0a401>\u001b[0m in \u001b[0;36m<module>\u001b[0;34m()\u001b[0m\n\u001b[1;32m      1\u001b[0m \u001b[0mtrain\u001b[0m \u001b[0;34m=\u001b[0m \u001b[0mpd\u001b[0m\u001b[0;34m.\u001b[0m\u001b[0mread_csv\u001b[0m\u001b[0;34m(\u001b[0m\u001b[0;34m'train.csv'\u001b[0m\u001b[0;34m,\u001b[0m \u001b[0mindex_col\u001b[0m\u001b[0;34m=\u001b[0m\u001b[0;34m'id'\u001b[0m\u001b[0;34m,\u001b[0m \u001b[0msep\u001b[0m\u001b[0;34m=\u001b[0m\u001b[0;34m\"\\t\"\u001b[0m\u001b[0;34m)\u001b[0m\u001b[0;34m\u001b[0m\u001b[0m\n\u001b[0;32m----> 2\u001b[0;31m \u001b[0mtrain\u001b[0m\u001b[0;34m[\u001b[0m\u001b[0;34m\"description\"\u001b[0m\u001b[0;34m]\u001b[0m \u001b[0;34m=\u001b[0m \u001b[0mtrain\u001b[0m\u001b[0;34m[\u001b[0m\u001b[0;34m\"description\"\u001b[0m\u001b[0;34m]\u001b[0m\u001b[0;34m.\u001b[0m\u001b[0mmap\u001b[0m\u001b[0;34m(\u001b[0m\u001b[0;32mlambda\u001b[0m \u001b[0mdesc\u001b[0m\u001b[0;34m:\u001b[0m \u001b[0mBeautifulSoup\u001b[0m\u001b[0;34m(\u001b[0m\u001b[0mdesc\u001b[0m\u001b[0;34m.\u001b[0m\u001b[0mreplace\u001b[0m\u001b[0;34m(\u001b[0m\u001b[0;34m\"<\"\u001b[0m\u001b[0;34m,\u001b[0m\u001b[0;34m\" <\"\u001b[0m\u001b[0;34m)\u001b[0m\u001b[0;34m,\u001b[0m\u001b[0;34m\"lxml\"\u001b[0m\u001b[0;34m)\u001b[0m\u001b[0;34m.\u001b[0m\u001b[0mget_text\u001b[0m\u001b[0;34m(\u001b[0m\u001b[0;34m)\u001b[0m\u001b[0;34m)\u001b[0m\u001b[0;34m\u001b[0m\u001b[0m\n\u001b[0m\u001b[1;32m      3\u001b[0m \u001b[0mtrain\u001b[0m\u001b[0;34m.\u001b[0m\u001b[0mto_csv\u001b[0m\u001b[0;34m(\u001b[0m\u001b[0;34m\"saved_train.csv\"\u001b[0m\u001b[0;34m,\u001b[0m \u001b[0msep\u001b[0m\u001b[0;34m=\u001b[0m\u001b[0;34m\"\\t\"\u001b[0m\u001b[0;34m)\u001b[0m\u001b[0;34m\u001b[0m\u001b[0m\n",
      "\u001b[0;32m~/anaconda3/lib/python3.6/site-packages/pandas/core/series.py\u001b[0m in \u001b[0;36mmap\u001b[0;34m(self, arg, na_action)\u001b[0m\n\u001b[1;32m   2994\u001b[0m         \"\"\"\n\u001b[1;32m   2995\u001b[0m         new_values = super(Series, self)._map_values(\n\u001b[0;32m-> 2996\u001b[0;31m             arg, na_action=na_action)\n\u001b[0m\u001b[1;32m   2997\u001b[0m         return self._constructor(new_values,\n\u001b[1;32m   2998\u001b[0m                                  index=self.index).__finalize__(self)\n",
      "\u001b[0;32m~/anaconda3/lib/python3.6/site-packages/pandas/core/base.py\u001b[0m in \u001b[0;36m_map_values\u001b[0;34m(self, mapper, na_action)\u001b[0m\n\u001b[1;32m   1002\u001b[0m \u001b[0;34m\u001b[0m\u001b[0m\n\u001b[1;32m   1003\u001b[0m         \u001b[0;31m# mapper is a function\u001b[0m\u001b[0;34m\u001b[0m\u001b[0;34m\u001b[0m\u001b[0m\n\u001b[0;32m-> 1004\u001b[0;31m         \u001b[0mnew_values\u001b[0m \u001b[0;34m=\u001b[0m \u001b[0mmap_f\u001b[0m\u001b[0;34m(\u001b[0m\u001b[0mvalues\u001b[0m\u001b[0;34m,\u001b[0m \u001b[0mmapper\u001b[0m\u001b[0;34m)\u001b[0m\u001b[0;34m\u001b[0m\u001b[0m\n\u001b[0m\u001b[1;32m   1005\u001b[0m \u001b[0;34m\u001b[0m\u001b[0m\n\u001b[1;32m   1006\u001b[0m         \u001b[0;32mreturn\u001b[0m \u001b[0mnew_values\u001b[0m\u001b[0;34m\u001b[0m\u001b[0m\n",
      "\u001b[0;32mpandas/_libs/src/inference.pyx\u001b[0m in \u001b[0;36mpandas._libs.lib.map_infer\u001b[0;34m()\u001b[0m\n",
      "\u001b[0;32m<ipython-input-24-5ce1b9f0a401>\u001b[0m in \u001b[0;36m<lambda>\u001b[0;34m(desc)\u001b[0m\n\u001b[1;32m      1\u001b[0m \u001b[0mtrain\u001b[0m \u001b[0;34m=\u001b[0m \u001b[0mpd\u001b[0m\u001b[0;34m.\u001b[0m\u001b[0mread_csv\u001b[0m\u001b[0;34m(\u001b[0m\u001b[0;34m'train.csv'\u001b[0m\u001b[0;34m,\u001b[0m \u001b[0mindex_col\u001b[0m\u001b[0;34m=\u001b[0m\u001b[0;34m'id'\u001b[0m\u001b[0;34m,\u001b[0m \u001b[0msep\u001b[0m\u001b[0;34m=\u001b[0m\u001b[0;34m\"\\t\"\u001b[0m\u001b[0;34m)\u001b[0m\u001b[0;34m\u001b[0m\u001b[0m\n\u001b[0;32m----> 2\u001b[0;31m \u001b[0mtrain\u001b[0m\u001b[0;34m[\u001b[0m\u001b[0;34m\"description\"\u001b[0m\u001b[0;34m]\u001b[0m \u001b[0;34m=\u001b[0m \u001b[0mtrain\u001b[0m\u001b[0;34m[\u001b[0m\u001b[0;34m\"description\"\u001b[0m\u001b[0;34m]\u001b[0m\u001b[0;34m.\u001b[0m\u001b[0mmap\u001b[0m\u001b[0;34m(\u001b[0m\u001b[0;32mlambda\u001b[0m \u001b[0mdesc\u001b[0m\u001b[0;34m:\u001b[0m \u001b[0mBeautifulSoup\u001b[0m\u001b[0;34m(\u001b[0m\u001b[0mdesc\u001b[0m\u001b[0;34m.\u001b[0m\u001b[0mreplace\u001b[0m\u001b[0;34m(\u001b[0m\u001b[0;34m\"<\"\u001b[0m\u001b[0;34m,\u001b[0m\u001b[0;34m\" <\"\u001b[0m\u001b[0;34m)\u001b[0m\u001b[0;34m,\u001b[0m\u001b[0;34m\"lxml\"\u001b[0m\u001b[0;34m)\u001b[0m\u001b[0;34m.\u001b[0m\u001b[0mget_text\u001b[0m\u001b[0;34m(\u001b[0m\u001b[0;34m)\u001b[0m\u001b[0;34m)\u001b[0m\u001b[0;34m\u001b[0m\u001b[0m\n\u001b[0m\u001b[1;32m      3\u001b[0m \u001b[0mtrain\u001b[0m\u001b[0;34m.\u001b[0m\u001b[0mto_csv\u001b[0m\u001b[0;34m(\u001b[0m\u001b[0;34m\"saved_train.csv\"\u001b[0m\u001b[0;34m,\u001b[0m \u001b[0msep\u001b[0m\u001b[0;34m=\u001b[0m\u001b[0;34m\"\\t\"\u001b[0m\u001b[0;34m)\u001b[0m\u001b[0;34m\u001b[0m\u001b[0m\n",
      "\u001b[0;32m~/anaconda3/lib/python3.6/site-packages/bs4/__init__.py\u001b[0m in \u001b[0;36m__init__\u001b[0;34m(self, markup, features, builder, parse_only, from_encoding, exclude_encodings, **kwargs)\u001b[0m\n\u001b[1;32m    226\u001b[0m             \u001b[0mself\u001b[0m\u001b[0;34m.\u001b[0m\u001b[0mreset\u001b[0m\u001b[0;34m(\u001b[0m\u001b[0;34m)\u001b[0m\u001b[0;34m\u001b[0m\u001b[0m\n\u001b[1;32m    227\u001b[0m             \u001b[0;32mtry\u001b[0m\u001b[0;34m:\u001b[0m\u001b[0;34m\u001b[0m\u001b[0m\n\u001b[0;32m--> 228\u001b[0;31m                 \u001b[0mself\u001b[0m\u001b[0;34m.\u001b[0m\u001b[0m_feed\u001b[0m\u001b[0;34m(\u001b[0m\u001b[0;34m)\u001b[0m\u001b[0;34m\u001b[0m\u001b[0m\n\u001b[0m\u001b[1;32m    229\u001b[0m                 \u001b[0;32mbreak\u001b[0m\u001b[0;34m\u001b[0m\u001b[0m\n\u001b[1;32m    230\u001b[0m             \u001b[0;32mexcept\u001b[0m \u001b[0mParserRejectedMarkup\u001b[0m\u001b[0;34m:\u001b[0m\u001b[0;34m\u001b[0m\u001b[0m\n",
      "\u001b[0;32m~/anaconda3/lib/python3.6/site-packages/bs4/__init__.py\u001b[0m in \u001b[0;36m_feed\u001b[0;34m(self)\u001b[0m\n\u001b[1;32m    287\u001b[0m         \u001b[0mself\u001b[0m\u001b[0;34m.\u001b[0m\u001b[0mbuilder\u001b[0m\u001b[0;34m.\u001b[0m\u001b[0mreset\u001b[0m\u001b[0;34m(\u001b[0m\u001b[0;34m)\u001b[0m\u001b[0;34m\u001b[0m\u001b[0m\n\u001b[1;32m    288\u001b[0m \u001b[0;34m\u001b[0m\u001b[0m\n\u001b[0;32m--> 289\u001b[0;31m         \u001b[0mself\u001b[0m\u001b[0;34m.\u001b[0m\u001b[0mbuilder\u001b[0m\u001b[0;34m.\u001b[0m\u001b[0mfeed\u001b[0m\u001b[0;34m(\u001b[0m\u001b[0mself\u001b[0m\u001b[0;34m.\u001b[0m\u001b[0mmarkup\u001b[0m\u001b[0;34m)\u001b[0m\u001b[0;34m\u001b[0m\u001b[0m\n\u001b[0m\u001b[1;32m    290\u001b[0m         \u001b[0;31m# Close out any unfinished strings and close all the open tags.\u001b[0m\u001b[0;34m\u001b[0m\u001b[0;34m\u001b[0m\u001b[0m\n\u001b[1;32m    291\u001b[0m         \u001b[0mself\u001b[0m\u001b[0;34m.\u001b[0m\u001b[0mendData\u001b[0m\u001b[0;34m(\u001b[0m\u001b[0;34m)\u001b[0m\u001b[0;34m\u001b[0m\u001b[0m\n",
      "\u001b[0;32m~/anaconda3/lib/python3.6/site-packages/bs4/builder/_lxml.py\u001b[0m in \u001b[0;36mfeed\u001b[0;34m(self, markup)\u001b[0m\n\u001b[1;32m    248\u001b[0m         \u001b[0;32mtry\u001b[0m\u001b[0;34m:\u001b[0m\u001b[0;34m\u001b[0m\u001b[0m\n\u001b[1;32m    249\u001b[0m             \u001b[0mself\u001b[0m\u001b[0;34m.\u001b[0m\u001b[0mparser\u001b[0m \u001b[0;34m=\u001b[0m \u001b[0mself\u001b[0m\u001b[0;34m.\u001b[0m\u001b[0mparser_for\u001b[0m\u001b[0;34m(\u001b[0m\u001b[0mencoding\u001b[0m\u001b[0;34m)\u001b[0m\u001b[0;34m\u001b[0m\u001b[0m\n\u001b[0;32m--> 250\u001b[0;31m             \u001b[0mself\u001b[0m\u001b[0;34m.\u001b[0m\u001b[0mparser\u001b[0m\u001b[0;34m.\u001b[0m\u001b[0mfeed\u001b[0m\u001b[0;34m(\u001b[0m\u001b[0mmarkup\u001b[0m\u001b[0;34m)\u001b[0m\u001b[0;34m\u001b[0m\u001b[0m\n\u001b[0m\u001b[1;32m    251\u001b[0m             \u001b[0mself\u001b[0m\u001b[0;34m.\u001b[0m\u001b[0mparser\u001b[0m\u001b[0;34m.\u001b[0m\u001b[0mclose\u001b[0m\u001b[0;34m(\u001b[0m\u001b[0;34m)\u001b[0m\u001b[0;34m\u001b[0m\u001b[0m\n\u001b[1;32m    252\u001b[0m         \u001b[0;32mexcept\u001b[0m \u001b[0;34m(\u001b[0m\u001b[0mUnicodeDecodeError\u001b[0m\u001b[0;34m,\u001b[0m \u001b[0mLookupError\u001b[0m\u001b[0;34m,\u001b[0m \u001b[0metree\u001b[0m\u001b[0;34m.\u001b[0m\u001b[0mParserError\u001b[0m\u001b[0;34m)\u001b[0m \u001b[0;32mas\u001b[0m \u001b[0me\u001b[0m\u001b[0;34m:\u001b[0m\u001b[0;34m\u001b[0m\u001b[0m\n",
      "\u001b[0;32msrc/lxml/parser.pxi\u001b[0m in \u001b[0;36mlxml.etree._FeedParser.feed\u001b[0;34m()\u001b[0m\n",
      "\u001b[0;32msrc/lxml/parser.pxi\u001b[0m in \u001b[0;36mlxml.etree._FeedParser.feed\u001b[0;34m()\u001b[0m\n",
      "\u001b[0;32msrc/lxml/parsertarget.pxi\u001b[0m in \u001b[0;36mlxml.etree._TargetParserContext._handleParseResult\u001b[0;34m()\u001b[0m\n",
      "\u001b[0;32msrc/lxml/parsertarget.pxi\u001b[0m in \u001b[0;36mlxml.etree._TargetParserContext._handleParseResult\u001b[0;34m()\u001b[0m\n",
      "\u001b[0;32msrc/lxml/etree.pyx\u001b[0m in \u001b[0;36mlxml.etree._ExceptionContext._raise_if_stored\u001b[0;34m()\u001b[0m\n",
      "\u001b[0;32msrc/lxml/saxparser.pxi\u001b[0m in \u001b[0;36mlxml.etree._handleSaxData\u001b[0;34m()\u001b[0m\n",
      "\u001b[0;32msrc/lxml/parsertarget.pxi\u001b[0m in \u001b[0;36mlxml.etree._PythonSaxParserTarget._handleSaxData\u001b[0;34m()\u001b[0m\n",
      "\u001b[0;32m~/anaconda3/lib/python3.6/site-packages/bs4/builder/_lxml.py\u001b[0m in \u001b[0;36mdata\u001b[0;34m(self, content)\u001b[0m\n\u001b[1;32m    213\u001b[0m         \u001b[0mself\u001b[0m\u001b[0;34m.\u001b[0m\u001b[0msoup\u001b[0m\u001b[0;34m.\u001b[0m\u001b[0mendData\u001b[0m\u001b[0;34m(\u001b[0m\u001b[0mself\u001b[0m\u001b[0;34m.\u001b[0m\u001b[0mprocessing_instruction_class\u001b[0m\u001b[0;34m)\u001b[0m\u001b[0;34m\u001b[0m\u001b[0m\n\u001b[1;32m    214\u001b[0m \u001b[0;34m\u001b[0m\u001b[0m\n\u001b[0;32m--> 215\u001b[0;31m     \u001b[0;32mdef\u001b[0m \u001b[0mdata\u001b[0m\u001b[0;34m(\u001b[0m\u001b[0mself\u001b[0m\u001b[0;34m,\u001b[0m \u001b[0mcontent\u001b[0m\u001b[0;34m)\u001b[0m\u001b[0;34m:\u001b[0m\u001b[0;34m\u001b[0m\u001b[0m\n\u001b[0m\u001b[1;32m    216\u001b[0m         \u001b[0mself\u001b[0m\u001b[0;34m.\u001b[0m\u001b[0msoup\u001b[0m\u001b[0;34m.\u001b[0m\u001b[0mhandle_data\u001b[0m\u001b[0;34m(\u001b[0m\u001b[0mcontent\u001b[0m\u001b[0;34m)\u001b[0m\u001b[0;34m\u001b[0m\u001b[0m\n\u001b[1;32m    217\u001b[0m \u001b[0;34m\u001b[0m\u001b[0m\n",
      "\u001b[0;31mKeyboardInterrupt\u001b[0m: "
     ],
     "output_type": "error"
    }
   ],
   "source": [
    "train = pd.read_csv('train.csv', index_col='id', sep=\"\\t\")\n",
    "train[\"description\"] = train[\"description\"].map(lambda desc: BeautifulSoup(desc.replace(\"<\",\" <\"),\"lxml\").get_text())\n",
    "train.to_csv(\"saved_train.csv\", sep=\"\\t\")"
   ]
  },
  {
   "cell_type": "code",
   "execution_count": null,
   "metadata": {},
   "outputs": [],
   "source": [
    "\n",
    "test = pd.read_csv('test.csv', index_col='id', sep=\"\\t\")\n",
    "test[\"description\"] = test[\"description\"].map(lambda desc: BeautifulSoup(desc.replace(\"<\",\" <\"),\"lxml\").get_text())\n",
    "test.to_csv(\"saved_test.csv\", sep=\"\\t\")"
   ]
  },
  {
   "cell_type": "code",
   "execution_count": 4,
   "metadata": {},
   "outputs": [],
   "source": [
    "\n",
    "import sklearn.metrics as metrics\n",
    "import matplotlib.pyplot as plt\n",
    "import sklearn.metrics as metrics\n",
    "from scipy.cluster import hierarchy\n",
    "from scipy.spatial.distance import pdist\n",
    "\n",
    "def plot_roc_curve(y_test, predict):\n",
    "    fpr, tpr, thresholds = metrics.roc_curve(y_test, predict)\n",
    "    rc_score = metrics.roc_auc_score(y_test, predict)\n",
    "    plt.title('ROC (AUC=%0.3f)' % (rc_score))\n",
    "    plt.fill_between(fpr, tpr, alpha=0.2)\n",
    "    plt.grid(True, linestyle='-', color='0.75')\n",
    "    plt.plot(fpr, tpr, linewidth=2, label=\"roc\")\n",
    "    plt.plot(fpr, thresholds, linewidth=1, label=\"thresholds\")\n",
    "    plt.plot([0, 1], [0, 1], 'k--')\n",
    "    plt.xlabel('fpr')\n",
    "    plt.ylabel('tpr')\n",
    "    plt.axis([0, 1, 0, 1])\n",
    "    plt.draw()\n",
    "    plt.show()\n"
   ]
  },
  {
   "cell_type": "code",
   "execution_count": 28,
   "metadata": {},
   "outputs": [],
   "source": [
    ""
   ]
  },
  {
   "cell_type": "code",
   "execution_count": 4,
   "metadata": {},
   "outputs": [],
   "source": [
    "def sanitize_str(str):\n",
    "    return remove_digits(\n",
    "        \" \".join(filter(lambda word: len(word) > 2,\n",
    "                    map(lambda w: re.sub(r'[\\s+\")(]', '', w).lower(),\n",
    "                        mystem.lemmatize(str))))\n",
    "    )    \n",
    "\n",
    "def remove_digits(str):\n",
    "    return re.sub(r'[^\\w\\s]+|[\\d]+', r'', str).strip()"
   ]
  },
  {
   "cell_type": "code",
   "execution_count": 7,
   "metadata": {},
   "outputs": [],
   "source": [
    "train = pd.read_csv('saved_train.csv', index_col='id', sep=\"\\t\")\n",
    "train[\"description\"] = train[\"description\"].map(sanitize_str)\n",
    "train[\"name\"] = train[\"name\"].map(sanitize_str)\n",
    "train.to_csv(\"saved_train_lemmatize.csv\", sep=\"\\t\")\n",
    "\n",
    "test = pd.read_csv('saved_test.csv', index_col='id', sep=\"\\t\")\n",
    "test[\"description\"] = test[\"description\"].map(sanitize_str)\n",
    "test[\"name\"] = test[\"name\"].map(sanitize_str)\n",
    "test.to_csv(\"saved_test_lemmatize.csv\", sep=\"\\t\")"
   ]
  },
  {
   "cell_type": "code",
   "execution_count": 30,
   "metadata": {},
   "outputs": [],
   "source": [
    "train = pd.read_csv('saved_train_lemmatize.csv', index_col='id', sep=\"\\t\")\n",
    "train.dropna(inplace=True)\n",
    "train[\"description\"] = train[\"description\"].map(remove_digits)\n",
    "train[\"name\"] = train[\"name\"].map(remove_digits)\n",
    "train.to_csv(\"saved_train_lemmatize.csv\", sep=\"\\t\")\n",
    "\n",
    "test = pd.read_csv('saved_test_lemmatize.csv', index_col='id', sep=\"\\t\")\n",
    "test.fillna(value=\"NA\", inplace=True)\n",
    "test[\"description\"] = test[\"description\"].map(remove_digits)\n",
    "test[\"name\"] = test[\"name\"].map(remove_digits)\n",
    "test.to_csv(\"saved_test_lemmatize.csv\", sep=\"\\t\")\n"
   ]
  },
  {
   "cell_type": "code",
   "execution_count": 60,
   "metadata": {},
   "outputs": [],
   "source": [
    "test = pd.read_csv('saved_test_lemmatize.csv', index_col='id', sep=\"\\t\")"
   ]
  },
  {
   "cell_type": "code",
   "execution_count": 25,
   "metadata": {},
   "outputs": [],
   "source": [
    "train = pd.read_csv('saved_train_lemmatize.csv', index_col='id', sep=\"\\t\")"
   ]
  },
  {
   "cell_type": "code",
   "execution_count": 26,
   "metadata": {},
   "outputs": [],
   "source": [
    "from sklearn.model_selection import train_test_split\n",
    "\n",
    "x_train, x_test, y_train, y_test = train_test_split(train.drop([\"target\"], axis=1), train.target, shuffle=True, test_size=0.33)"
   ]
  },
  {
   "cell_type": "code",
   "execution_count": null,
   "metadata": {},
   "outputs": [],
   "source": [
    "\n",
    "        \n",
    "        "
   ]
  },
  {
   "cell_type": "code",
   "execution_count": 171,
   "metadata": {},
   "outputs": [],
   "source": [
    "from sklearn.pipeline import Pipeline\n",
    "from sklearn.feature_extraction.text import TfidfTransformer, CountVectorizer\n",
    "from sklearn.linear_model import LogisticRegression\n",
    "from sklearn.decomposition import PCA\n",
    "from sklearn.decomposition import TruncatedSVD\n",
    "from sklearn.linear_model import SGDClassifier\n",
    "from sklearn.ensemble import RandomForestClassifier\n",
    "\n",
    "\n",
    "text_clf = Pipeline([\n",
    "                    ('vect', CountVectorizer(ngram_range=(1,2))),\n",
    "                    #('tfidf', TfidfTransformer(smooth_idf=False, norm=None)),\n",
    "                    ('pca', TruncatedSVD(n_components=300)),\n",
    "                    #('rfc', RandomForestClassifier())\n",
    "                    ('lrc', LogisticRegression(C=5))\n",
    "                        \n",
    "                     ])\n",
    "\n",
    "\n",
    "# param_grid=[\n",
    "#     {\"rfc__max_depth\":[15], \"rfc__max_leaf_nodes\":range(25,30)}\n",
    "#     \n",
    "# ]\n",
    "\n",
    "# param_grid=[\n",
    "#     {\"lrc__C\":[0.001, 0.01,0.07, 0.1, 0.5, 1,5, 10, 20, 40, 100]}\n",
    "#     \n",
    "# ]\n",
    "\n",
    "# grid_search=GridSearchCV(text_clf, param_grid, cv=2, scoring=\"roc_auc\")\n",
    "# grid_search.fit(train.drop([\"target\"], axis=1).name, train.target)"
   ]
  },
  {
   "cell_type": "code",
   "execution_count": 143,
   "metadata": {},
   "outputs": [
    {
     "data": {
      "text/plain": [
       "{'lrc__C': 5}"
      ]
     },
     "execution_count": 143,
     "metadata": {},
     "output_type": "execute_result"
    }
   ],
   "source": [
    "grid_search.best_params_"
   ]
  },
  {
   "cell_type": "code",
   "execution_count": 144,
   "metadata": {},
   "outputs": [
    {
     "data": {
      "text/plain": [
       "0.98656801533382343"
      ]
     },
     "execution_count": 144,
     "metadata": {},
     "output_type": "execute_result"
    }
   ],
   "source": [
    "grid_search.best_score_"
   ]
  },
  {
   "cell_type": "code",
   "execution_count": 172,
   "metadata": {
    "collapsed": true
   },
   "outputs": [
    {
     "data": {
      "text/plain": [
       "Pipeline(memory=None,\n     steps=[('vect', CountVectorizer(analyzer='word', binary=False, decode_error='strict',\n        dtype=<class 'numpy.int64'>, encoding='utf-8', input='content',\n        lowercase=True, max_df=1.0, max_features=None, min_df=1,\n        ngram_range=(1, 2), preprocessor=None, stop_words=None,\n        strip...ty='l2', random_state=None, solver='liblinear', tol=0.0001,\n          verbose=0, warm_start=False))])"
      ]
     },
     "execution_count": 172,
     "metadata": {},
     "output_type": "execute_result"
    }
   ],
   "source": [
    "text_clf.fit(x_train.name, y_train)\n",
    "\n",
    "\n"
   ]
  },
  {
   "cell_type": "code",
   "execution_count": 31,
   "metadata": {
    "collapsed": true
   },
   "outputs": [
    {
     "data": {
      "text/plain": [
       "LogisticRegression(C=5, class_weight=None, dual=False, fit_intercept=True,\n          intercept_scaling=1, max_iter=100, multi_class='ovr', n_jobs=1,\n          penalty='l2', random_state=None, solver='liblinear', tol=0.0001,\n          verbose=0, warm_start=False)"
      ]
     },
     "execution_count": 31,
     "metadata": {},
     "output_type": "execute_result"
    }
   ],
   "source": [
    "from sklearn.pipeline import Pipeline\n",
    "from scipy import sparse\n",
    "from sklearn.ensemble import VotingClassifier\n",
    "from sklearn.svm import LinearSVC\n",
    "from sklearn.linear_model import SGDClassifier\n",
    "from sklearn.model_selection import GridSearchCV\n",
    "from sklearn.feature_extraction.text import TfidfTransformer, CountVectorizer\n",
    "from sklearn.linear_model import LogisticRegression\n",
    "from sklearn.ensemble import GradientBoostingClassifier\n",
    "from sklearn.ensemble import RandomForestClassifier\n",
    "\n",
    "from sklearn.decomposition import TruncatedSVD, LatentDirichletAllocation\n",
    "\n",
    "\n",
    "with open(\"stop_words\", \"rt\") as fp:\n",
    "    stop_words = set(fp.readlines())\n",
    "\n",
    "\n",
    "pipe1 = Pipeline([\n",
    "    (\"cv\", CountVectorizer(ngram_range=(1, 3))),\n",
    "    (\"tfidf\", TfidfTransformer())\n",
    "])\n",
    "\n",
    "pipe2 = Pipeline([\n",
    "    (\"cv\", CountVectorizer(min_df=0.1, max_df=0.6, ngram_range=(1, 3), stop_words=stop_words)),\n",
    "    (\"tfidf\", TfidfTransformer()),\n",
    "   # ('pca', TruncatedSVD(n_components=150))\n",
    "    ('lda', LatentDirichletAllocation(10, n_jobs=4, learning_method=\"batch\"))\n",
    "])\n",
    "\n",
    "x1 = pipe1.fit_transform(x_train.name)\n",
    "x1_test = pipe1.transform(x_test.name)\n",
    "\n",
    "x2 = pipe2.fit_transform(x_train[\"description\"])\n",
    "x2_test = pipe2.transform(x_test[\"description\"])\n",
    "\n",
    "xx = sparse.hstack((x1,x2))\n",
    "xx_test =sparse.hstack((x1_test, x2_test))\n",
    "\n",
    "# text_clf = VotingClassifier(voting='soft', estimators=[\n",
    "#     ('lrc', LogisticRegression(C=5)),\n",
    "#     ('sgd', SGDClassifier(loss=\"log\")),\n",
    "#     ('rfc', RandomForestClassifier(max_depth=15, max_leaf_nodes=28)),\n",
    "#     ('gbm',GradientBoostingClassifier(min_samples_leaf=20, max_features=\"sqrt\", n_estimators=200))\n",
    "# ])\n",
    "\n",
    "text_clf = LogisticRegression(C=5)\n",
    "\n",
    "text_clf.fit(xx, y_train)"
   ]
  },
  {
   "cell_type": "code",
   "execution_count": 10,
   "metadata": {},
   "outputs": [],
   "source": [
    "from sklearn.feature_extraction.text import TfidfTransformer, CountVectorizer\n",
    "from sklearn.ensemble import BaggingClassifier\n",
    "from sklearn.linear_model import LogisticRegression\n",
    "\n",
    "cv1 = CountVectorizer(ngram_range=(1,2))\n",
    "xx = cv1.fit_transform(x_train.name)\n",
    "xx_test = cv1.transform(x_test.name)\n",
    "\n",
    "text_clf = BaggingClassifier(LogisticRegression(C=5), n_estimators=100,bootstrap=True, bootstrap_features=True, n_jobs=-1 )\n",
    "\n",
    "text_clf.fit(xx, y_train)\n",
    "\n",
    "predict = text_clf.predict_proba(xx_test)\n",
    "\n"
   ]
  },
  {
   "cell_type": "code",
   "execution_count": 19,
   "metadata": {},
   "outputs": [],
   "source": [
    "from sklearn.feature_extraction.text import TfidfTransformer, CountVectorizer\n",
    "from sklearn.ensemble import GradientBoostingClassifier\n",
    "\n",
    "cv1 = CountVectorizer(ngram_range=(1,2))\n",
    "xx = cv1.fit_transform(x_train.name)\n",
    "xx_test = cv1.transform(x_test.name)\n",
    "text_clf = GradientBoostingClassifier(min_samples_leaf=20, max_features=\"sqrt\", n_estimators=200)\n",
    "\n",
    "text_clf.fit(xx, y_train)\n",
    "\n",
    "predict = text_clf.predict_proba(xx_test)\n",
    "\n"
   ]
  },
  {
   "cell_type": "code",
   "execution_count": 27,
   "metadata": {
    "collapsed": true
   },
   "outputs": [
    {
     "ename": "KeyboardInterrupt",
     "evalue": "",
     "traceback": [
      "\u001b[0;31m---------------------------------------------------------------------------\u001b[0m",
      "\u001b[0;31mKeyboardInterrupt\u001b[0m                         Traceback (most recent call last)",
      "\u001b[0;32m<ipython-input-27-7400b185ecbb>\u001b[0m in \u001b[0;36m<module>\u001b[0;34m()\u001b[0m\n\u001b[1;32m     18\u001b[0m \u001b[0;34m\u001b[0m\u001b[0m\n\u001b[1;32m     19\u001b[0m \u001b[0mgrid_search\u001b[0m\u001b[0;34m=\u001b[0m\u001b[0mGridSearchCV\u001b[0m\u001b[0;34m(\u001b[0m\u001b[0mtext_clf\u001b[0m\u001b[0;34m,\u001b[0m \u001b[0mparam_grid\u001b[0m\u001b[0;34m,\u001b[0m \u001b[0mcv\u001b[0m\u001b[0;34m=\u001b[0m\u001b[0;36m2\u001b[0m\u001b[0;34m,\u001b[0m \u001b[0mscoring\u001b[0m\u001b[0;34m=\u001b[0m\u001b[0;34m\"roc_auc\"\u001b[0m\u001b[0;34m)\u001b[0m\u001b[0;34m\u001b[0m\u001b[0m\n\u001b[0;32m---> 20\u001b[0;31m \u001b[0mgrid_search\u001b[0m\u001b[0;34m.\u001b[0m\u001b[0mfit\u001b[0m\u001b[0;34m(\u001b[0m\u001b[0mxx\u001b[0m\u001b[0;34m,\u001b[0m \u001b[0my_train\u001b[0m\u001b[0;34m)\u001b[0m\u001b[0;34m\u001b[0m\u001b[0m\n\u001b[0m\u001b[1;32m     21\u001b[0m \u001b[0mprint\u001b[0m\u001b[0;34m(\u001b[0m\u001b[0mgrid_search\u001b[0m\u001b[0;34m.\u001b[0m\u001b[0mbest_score_\u001b[0m\u001b[0;34m)\u001b[0m\u001b[0;34m\u001b[0m\u001b[0m\n\u001b[1;32m     22\u001b[0m \u001b[0mgrid_search\u001b[0m\u001b[0;34m.\u001b[0m\u001b[0mbest_params_\u001b[0m\u001b[0;34m\u001b[0m\u001b[0m\n",
      "\u001b[0;32m~/anaconda3/lib/python3.6/site-packages/sklearn/model_selection/_search.py\u001b[0m in \u001b[0;36mfit\u001b[0;34m(self, X, y, groups, **fit_params)\u001b[0m\n\u001b[1;32m    637\u001b[0m                                   error_score=self.error_score)\n\u001b[1;32m    638\u001b[0m           for parameters, (train, test) in product(candidate_params,\n\u001b[0;32m--> 639\u001b[0;31m                                                    cv.split(X, y, groups)))\n\u001b[0m\u001b[1;32m    640\u001b[0m \u001b[0;34m\u001b[0m\u001b[0m\n\u001b[1;32m    641\u001b[0m         \u001b[0;31m# if one choose to see train score, \"out\" will contain train score info\u001b[0m\u001b[0;34m\u001b[0m\u001b[0;34m\u001b[0m\u001b[0m\n",
      "\u001b[0;32m~/anaconda3/lib/python3.6/site-packages/sklearn/externals/joblib/parallel.py\u001b[0m in \u001b[0;36m__call__\u001b[0;34m(self, iterable)\u001b[0m\n\u001b[1;32m    777\u001b[0m             \u001b[0;31m# was dispatched. In particular this covers the edge\u001b[0m\u001b[0;34m\u001b[0m\u001b[0;34m\u001b[0m\u001b[0m\n\u001b[1;32m    778\u001b[0m             \u001b[0;31m# case of Parallel used with an exhausted iterator.\u001b[0m\u001b[0;34m\u001b[0m\u001b[0;34m\u001b[0m\u001b[0m\n\u001b[0;32m--> 779\u001b[0;31m             \u001b[0;32mwhile\u001b[0m \u001b[0mself\u001b[0m\u001b[0;34m.\u001b[0m\u001b[0mdispatch_one_batch\u001b[0m\u001b[0;34m(\u001b[0m\u001b[0miterator\u001b[0m\u001b[0;34m)\u001b[0m\u001b[0;34m:\u001b[0m\u001b[0;34m\u001b[0m\u001b[0m\n\u001b[0m\u001b[1;32m    780\u001b[0m                 \u001b[0mself\u001b[0m\u001b[0;34m.\u001b[0m\u001b[0m_iterating\u001b[0m \u001b[0;34m=\u001b[0m \u001b[0;32mTrue\u001b[0m\u001b[0;34m\u001b[0m\u001b[0m\n\u001b[1;32m    781\u001b[0m             \u001b[0;32melse\u001b[0m\u001b[0;34m:\u001b[0m\u001b[0;34m\u001b[0m\u001b[0m\n",
      "\u001b[0;32m~/anaconda3/lib/python3.6/site-packages/sklearn/externals/joblib/parallel.py\u001b[0m in \u001b[0;36mdispatch_one_batch\u001b[0;34m(self, iterator)\u001b[0m\n\u001b[1;32m    623\u001b[0m                 \u001b[0;32mreturn\u001b[0m \u001b[0;32mFalse\u001b[0m\u001b[0;34m\u001b[0m\u001b[0m\n\u001b[1;32m    624\u001b[0m             \u001b[0;32melse\u001b[0m\u001b[0;34m:\u001b[0m\u001b[0;34m\u001b[0m\u001b[0m\n\u001b[0;32m--> 625\u001b[0;31m                 \u001b[0mself\u001b[0m\u001b[0;34m.\u001b[0m\u001b[0m_dispatch\u001b[0m\u001b[0;34m(\u001b[0m\u001b[0mtasks\u001b[0m\u001b[0;34m)\u001b[0m\u001b[0;34m\u001b[0m\u001b[0m\n\u001b[0m\u001b[1;32m    626\u001b[0m                 \u001b[0;32mreturn\u001b[0m \u001b[0;32mTrue\u001b[0m\u001b[0;34m\u001b[0m\u001b[0m\n\u001b[1;32m    627\u001b[0m \u001b[0;34m\u001b[0m\u001b[0m\n",
      "\u001b[0;32m~/anaconda3/lib/python3.6/site-packages/sklearn/externals/joblib/parallel.py\u001b[0m in \u001b[0;36m_dispatch\u001b[0;34m(self, batch)\u001b[0m\n\u001b[1;32m    586\u001b[0m         \u001b[0mdispatch_timestamp\u001b[0m \u001b[0;34m=\u001b[0m \u001b[0mtime\u001b[0m\u001b[0;34m.\u001b[0m\u001b[0mtime\u001b[0m\u001b[0;34m(\u001b[0m\u001b[0;34m)\u001b[0m\u001b[0;34m\u001b[0m\u001b[0m\n\u001b[1;32m    587\u001b[0m         \u001b[0mcb\u001b[0m \u001b[0;34m=\u001b[0m \u001b[0mBatchCompletionCallBack\u001b[0m\u001b[0;34m(\u001b[0m\u001b[0mdispatch_timestamp\u001b[0m\u001b[0;34m,\u001b[0m \u001b[0mlen\u001b[0m\u001b[0;34m(\u001b[0m\u001b[0mbatch\u001b[0m\u001b[0;34m)\u001b[0m\u001b[0;34m,\u001b[0m \u001b[0mself\u001b[0m\u001b[0;34m)\u001b[0m\u001b[0;34m\u001b[0m\u001b[0m\n\u001b[0;32m--> 588\u001b[0;31m         \u001b[0mjob\u001b[0m \u001b[0;34m=\u001b[0m \u001b[0mself\u001b[0m\u001b[0;34m.\u001b[0m\u001b[0m_backend\u001b[0m\u001b[0;34m.\u001b[0m\u001b[0mapply_async\u001b[0m\u001b[0;34m(\u001b[0m\u001b[0mbatch\u001b[0m\u001b[0;34m,\u001b[0m \u001b[0mcallback\u001b[0m\u001b[0;34m=\u001b[0m\u001b[0mcb\u001b[0m\u001b[0;34m)\u001b[0m\u001b[0;34m\u001b[0m\u001b[0m\n\u001b[0m\u001b[1;32m    589\u001b[0m         \u001b[0mself\u001b[0m\u001b[0;34m.\u001b[0m\u001b[0m_jobs\u001b[0m\u001b[0;34m.\u001b[0m\u001b[0mappend\u001b[0m\u001b[0;34m(\u001b[0m\u001b[0mjob\u001b[0m\u001b[0;34m)\u001b[0m\u001b[0;34m\u001b[0m\u001b[0m\n\u001b[1;32m    590\u001b[0m \u001b[0;34m\u001b[0m\u001b[0m\n",
      "\u001b[0;32m~/anaconda3/lib/python3.6/site-packages/sklearn/externals/joblib/_parallel_backends.py\u001b[0m in \u001b[0;36mapply_async\u001b[0;34m(self, func, callback)\u001b[0m\n\u001b[1;32m    109\u001b[0m     \u001b[0;32mdef\u001b[0m \u001b[0mapply_async\u001b[0m\u001b[0;34m(\u001b[0m\u001b[0mself\u001b[0m\u001b[0;34m,\u001b[0m \u001b[0mfunc\u001b[0m\u001b[0;34m,\u001b[0m \u001b[0mcallback\u001b[0m\u001b[0;34m=\u001b[0m\u001b[0;32mNone\u001b[0m\u001b[0;34m)\u001b[0m\u001b[0;34m:\u001b[0m\u001b[0;34m\u001b[0m\u001b[0m\n\u001b[1;32m    110\u001b[0m         \u001b[0;34m\"\"\"Schedule a func to be run\"\"\"\u001b[0m\u001b[0;34m\u001b[0m\u001b[0m\n\u001b[0;32m--> 111\u001b[0;31m         \u001b[0mresult\u001b[0m \u001b[0;34m=\u001b[0m \u001b[0mImmediateResult\u001b[0m\u001b[0;34m(\u001b[0m\u001b[0mfunc\u001b[0m\u001b[0;34m)\u001b[0m\u001b[0;34m\u001b[0m\u001b[0m\n\u001b[0m\u001b[1;32m    112\u001b[0m         \u001b[0;32mif\u001b[0m \u001b[0mcallback\u001b[0m\u001b[0;34m:\u001b[0m\u001b[0;34m\u001b[0m\u001b[0m\n\u001b[1;32m    113\u001b[0m             \u001b[0mcallback\u001b[0m\u001b[0;34m(\u001b[0m\u001b[0mresult\u001b[0m\u001b[0;34m)\u001b[0m\u001b[0;34m\u001b[0m\u001b[0m\n",
      "\u001b[0;32m~/anaconda3/lib/python3.6/site-packages/sklearn/externals/joblib/_parallel_backends.py\u001b[0m in \u001b[0;36m__init__\u001b[0;34m(self, batch)\u001b[0m\n\u001b[1;32m    330\u001b[0m         \u001b[0;31m# Don't delay the application, to avoid keeping the input\u001b[0m\u001b[0;34m\u001b[0m\u001b[0;34m\u001b[0m\u001b[0m\n\u001b[1;32m    331\u001b[0m         \u001b[0;31m# arguments in memory\u001b[0m\u001b[0;34m\u001b[0m\u001b[0;34m\u001b[0m\u001b[0m\n\u001b[0;32m--> 332\u001b[0;31m         \u001b[0mself\u001b[0m\u001b[0;34m.\u001b[0m\u001b[0mresults\u001b[0m \u001b[0;34m=\u001b[0m \u001b[0mbatch\u001b[0m\u001b[0;34m(\u001b[0m\u001b[0;34m)\u001b[0m\u001b[0;34m\u001b[0m\u001b[0m\n\u001b[0m\u001b[1;32m    333\u001b[0m \u001b[0;34m\u001b[0m\u001b[0m\n\u001b[1;32m    334\u001b[0m     \u001b[0;32mdef\u001b[0m \u001b[0mget\u001b[0m\u001b[0;34m(\u001b[0m\u001b[0mself\u001b[0m\u001b[0;34m)\u001b[0m\u001b[0;34m:\u001b[0m\u001b[0;34m\u001b[0m\u001b[0m\n",
      "\u001b[0;32m~/anaconda3/lib/python3.6/site-packages/sklearn/externals/joblib/parallel.py\u001b[0m in \u001b[0;36m__call__\u001b[0;34m(self)\u001b[0m\n\u001b[1;32m    129\u001b[0m \u001b[0;34m\u001b[0m\u001b[0m\n\u001b[1;32m    130\u001b[0m     \u001b[0;32mdef\u001b[0m \u001b[0m__call__\u001b[0m\u001b[0;34m(\u001b[0m\u001b[0mself\u001b[0m\u001b[0;34m)\u001b[0m\u001b[0;34m:\u001b[0m\u001b[0;34m\u001b[0m\u001b[0m\n\u001b[0;32m--> 131\u001b[0;31m         \u001b[0;32mreturn\u001b[0m \u001b[0;34m[\u001b[0m\u001b[0mfunc\u001b[0m\u001b[0;34m(\u001b[0m\u001b[0;34m*\u001b[0m\u001b[0margs\u001b[0m\u001b[0;34m,\u001b[0m \u001b[0;34m**\u001b[0m\u001b[0mkwargs\u001b[0m\u001b[0;34m)\u001b[0m \u001b[0;32mfor\u001b[0m \u001b[0mfunc\u001b[0m\u001b[0;34m,\u001b[0m \u001b[0margs\u001b[0m\u001b[0;34m,\u001b[0m \u001b[0mkwargs\u001b[0m \u001b[0;32min\u001b[0m \u001b[0mself\u001b[0m\u001b[0;34m.\u001b[0m\u001b[0mitems\u001b[0m\u001b[0;34m]\u001b[0m\u001b[0;34m\u001b[0m\u001b[0m\n\u001b[0m\u001b[1;32m    132\u001b[0m \u001b[0;34m\u001b[0m\u001b[0m\n\u001b[1;32m    133\u001b[0m     \u001b[0;32mdef\u001b[0m \u001b[0m__len__\u001b[0m\u001b[0;34m(\u001b[0m\u001b[0mself\u001b[0m\u001b[0;34m)\u001b[0m\u001b[0;34m:\u001b[0m\u001b[0;34m\u001b[0m\u001b[0m\n",
      "\u001b[0;32m~/anaconda3/lib/python3.6/site-packages/sklearn/externals/joblib/parallel.py\u001b[0m in \u001b[0;36m<listcomp>\u001b[0;34m(.0)\u001b[0m\n\u001b[1;32m    129\u001b[0m \u001b[0;34m\u001b[0m\u001b[0m\n\u001b[1;32m    130\u001b[0m     \u001b[0;32mdef\u001b[0m \u001b[0m__call__\u001b[0m\u001b[0;34m(\u001b[0m\u001b[0mself\u001b[0m\u001b[0;34m)\u001b[0m\u001b[0;34m:\u001b[0m\u001b[0;34m\u001b[0m\u001b[0m\n\u001b[0;32m--> 131\u001b[0;31m         \u001b[0;32mreturn\u001b[0m \u001b[0;34m[\u001b[0m\u001b[0mfunc\u001b[0m\u001b[0;34m(\u001b[0m\u001b[0;34m*\u001b[0m\u001b[0margs\u001b[0m\u001b[0;34m,\u001b[0m \u001b[0;34m**\u001b[0m\u001b[0mkwargs\u001b[0m\u001b[0;34m)\u001b[0m \u001b[0;32mfor\u001b[0m \u001b[0mfunc\u001b[0m\u001b[0;34m,\u001b[0m \u001b[0margs\u001b[0m\u001b[0;34m,\u001b[0m \u001b[0mkwargs\u001b[0m \u001b[0;32min\u001b[0m \u001b[0mself\u001b[0m\u001b[0;34m.\u001b[0m\u001b[0mitems\u001b[0m\u001b[0;34m]\u001b[0m\u001b[0;34m\u001b[0m\u001b[0m\n\u001b[0m\u001b[1;32m    132\u001b[0m \u001b[0;34m\u001b[0m\u001b[0m\n\u001b[1;32m    133\u001b[0m     \u001b[0;32mdef\u001b[0m \u001b[0m__len__\u001b[0m\u001b[0;34m(\u001b[0m\u001b[0mself\u001b[0m\u001b[0;34m)\u001b[0m\u001b[0;34m:\u001b[0m\u001b[0;34m\u001b[0m\u001b[0m\n",
      "\u001b[0;32m~/anaconda3/lib/python3.6/site-packages/sklearn/model_selection/_validation.py\u001b[0m in \u001b[0;36m_fit_and_score\u001b[0;34m(estimator, X, y, scorer, train, test, verbose, parameters, fit_params, return_train_score, return_parameters, return_n_test_samples, return_times, error_score)\u001b[0m\n\u001b[1;32m    456\u001b[0m             \u001b[0mestimator\u001b[0m\u001b[0;34m.\u001b[0m\u001b[0mfit\u001b[0m\u001b[0;34m(\u001b[0m\u001b[0mX_train\u001b[0m\u001b[0;34m,\u001b[0m \u001b[0;34m**\u001b[0m\u001b[0mfit_params\u001b[0m\u001b[0;34m)\u001b[0m\u001b[0;34m\u001b[0m\u001b[0m\n\u001b[1;32m    457\u001b[0m         \u001b[0;32melse\u001b[0m\u001b[0;34m:\u001b[0m\u001b[0;34m\u001b[0m\u001b[0m\n\u001b[0;32m--> 458\u001b[0;31m             \u001b[0mestimator\u001b[0m\u001b[0;34m.\u001b[0m\u001b[0mfit\u001b[0m\u001b[0;34m(\u001b[0m\u001b[0mX_train\u001b[0m\u001b[0;34m,\u001b[0m \u001b[0my_train\u001b[0m\u001b[0;34m,\u001b[0m \u001b[0;34m**\u001b[0m\u001b[0mfit_params\u001b[0m\u001b[0;34m)\u001b[0m\u001b[0;34m\u001b[0m\u001b[0m\n\u001b[0m\u001b[1;32m    459\u001b[0m \u001b[0;34m\u001b[0m\u001b[0m\n\u001b[1;32m    460\u001b[0m     \u001b[0;32mexcept\u001b[0m \u001b[0mException\u001b[0m \u001b[0;32mas\u001b[0m \u001b[0me\u001b[0m\u001b[0;34m:\u001b[0m\u001b[0;34m\u001b[0m\u001b[0m\n",
      "\u001b[0;32m~/anaconda3/lib/python3.6/site-packages/sklearn/ensemble/gradient_boosting.py\u001b[0m in \u001b[0;36mfit\u001b[0;34m(self, X, y, sample_weight, monitor)\u001b[0m\n\u001b[1;32m   1032\u001b[0m         \u001b[0;31m# fit the boosting stages\u001b[0m\u001b[0;34m\u001b[0m\u001b[0;34m\u001b[0m\u001b[0m\n\u001b[1;32m   1033\u001b[0m         n_stages = self._fit_stages(X, y, y_pred, sample_weight, random_state,\n\u001b[0;32m-> 1034\u001b[0;31m                                     begin_at_stage, monitor, X_idx_sorted)\n\u001b[0m\u001b[1;32m   1035\u001b[0m         \u001b[0;31m# change shape of arrays after fit (early-stopping or additional ests)\u001b[0m\u001b[0;34m\u001b[0m\u001b[0;34m\u001b[0m\u001b[0m\n\u001b[1;32m   1036\u001b[0m         \u001b[0;32mif\u001b[0m \u001b[0mn_stages\u001b[0m \u001b[0;34m!=\u001b[0m \u001b[0mself\u001b[0m\u001b[0;34m.\u001b[0m\u001b[0mestimators_\u001b[0m\u001b[0;34m.\u001b[0m\u001b[0mshape\u001b[0m\u001b[0;34m[\u001b[0m\u001b[0;36m0\u001b[0m\u001b[0;34m]\u001b[0m\u001b[0;34m:\u001b[0m\u001b[0;34m\u001b[0m\u001b[0m\n",
      "\u001b[0;32m~/anaconda3/lib/python3.6/site-packages/sklearn/ensemble/gradient_boosting.py\u001b[0m in \u001b[0;36m_fit_stages\u001b[0;34m(self, X, y, y_pred, sample_weight, random_state, begin_at_stage, monitor, X_idx_sorted)\u001b[0m\n\u001b[1;32m   1087\u001b[0m             y_pred = self._fit_stage(i, X, y, y_pred, sample_weight,\n\u001b[1;32m   1088\u001b[0m                                      \u001b[0msample_mask\u001b[0m\u001b[0;34m,\u001b[0m \u001b[0mrandom_state\u001b[0m\u001b[0;34m,\u001b[0m \u001b[0mX_idx_sorted\u001b[0m\u001b[0;34m,\u001b[0m\u001b[0;34m\u001b[0m\u001b[0m\n\u001b[0;32m-> 1089\u001b[0;31m                                      X_csc, X_csr)\n\u001b[0m\u001b[1;32m   1090\u001b[0m \u001b[0;34m\u001b[0m\u001b[0m\n\u001b[1;32m   1091\u001b[0m             \u001b[0;31m# track deviance (= loss)\u001b[0m\u001b[0;34m\u001b[0m\u001b[0;34m\u001b[0m\u001b[0m\n",
      "\u001b[0;32m~/anaconda3/lib/python3.6/site-packages/sklearn/ensemble/gradient_boosting.py\u001b[0m in \u001b[0;36m_fit_stage\u001b[0;34m(self, i, X, y, y_pred, sample_weight, sample_mask, random_state, X_idx_sorted, X_csc, X_csr)\u001b[0m\n\u001b[1;32m    783\u001b[0m             \u001b[0;32mif\u001b[0m \u001b[0mX_csc\u001b[0m \u001b[0;32mis\u001b[0m \u001b[0;32mnot\u001b[0m \u001b[0;32mNone\u001b[0m\u001b[0;34m:\u001b[0m\u001b[0;34m\u001b[0m\u001b[0m\n\u001b[1;32m    784\u001b[0m                 tree.fit(X_csc, residual, sample_weight=sample_weight,\n\u001b[0;32m--> 785\u001b[0;31m                          check_input=False, X_idx_sorted=X_idx_sorted)\n\u001b[0m\u001b[1;32m    786\u001b[0m             \u001b[0;32melse\u001b[0m\u001b[0;34m:\u001b[0m\u001b[0;34m\u001b[0m\u001b[0m\n\u001b[1;32m    787\u001b[0m                 tree.fit(X, residual, sample_weight=sample_weight,\n",
      "\u001b[0;32m~/anaconda3/lib/python3.6/site-packages/sklearn/tree/tree.py\u001b[0m in \u001b[0;36mfit\u001b[0;34m(self, X, y, sample_weight, check_input, X_idx_sorted)\u001b[0m\n\u001b[1;32m   1122\u001b[0m             \u001b[0msample_weight\u001b[0m\u001b[0;34m=\u001b[0m\u001b[0msample_weight\u001b[0m\u001b[0;34m,\u001b[0m\u001b[0;34m\u001b[0m\u001b[0m\n\u001b[1;32m   1123\u001b[0m             \u001b[0mcheck_input\u001b[0m\u001b[0;34m=\u001b[0m\u001b[0mcheck_input\u001b[0m\u001b[0;34m,\u001b[0m\u001b[0;34m\u001b[0m\u001b[0m\n\u001b[0;32m-> 1124\u001b[0;31m             X_idx_sorted=X_idx_sorted)\n\u001b[0m\u001b[1;32m   1125\u001b[0m         \u001b[0;32mreturn\u001b[0m \u001b[0mself\u001b[0m\u001b[0;34m\u001b[0m\u001b[0m\n\u001b[1;32m   1126\u001b[0m \u001b[0;34m\u001b[0m\u001b[0m\n",
      "\u001b[0;32m~/anaconda3/lib/python3.6/site-packages/sklearn/tree/tree.py\u001b[0m in \u001b[0;36mfit\u001b[0;34m(self, X, y, sample_weight, check_input, X_idx_sorted)\u001b[0m\n\u001b[1;32m    360\u001b[0m                                            min_impurity_split)\n\u001b[1;32m    361\u001b[0m \u001b[0;34m\u001b[0m\u001b[0m\n\u001b[0;32m--> 362\u001b[0;31m         \u001b[0mbuilder\u001b[0m\u001b[0;34m.\u001b[0m\u001b[0mbuild\u001b[0m\u001b[0;34m(\u001b[0m\u001b[0mself\u001b[0m\u001b[0;34m.\u001b[0m\u001b[0mtree_\u001b[0m\u001b[0;34m,\u001b[0m \u001b[0mX\u001b[0m\u001b[0;34m,\u001b[0m \u001b[0my\u001b[0m\u001b[0;34m,\u001b[0m \u001b[0msample_weight\u001b[0m\u001b[0;34m,\u001b[0m \u001b[0mX_idx_sorted\u001b[0m\u001b[0;34m)\u001b[0m\u001b[0;34m\u001b[0m\u001b[0m\n\u001b[0m\u001b[1;32m    363\u001b[0m \u001b[0;34m\u001b[0m\u001b[0m\n\u001b[1;32m    364\u001b[0m         \u001b[0;32mif\u001b[0m \u001b[0mself\u001b[0m\u001b[0;34m.\u001b[0m\u001b[0mn_outputs_\u001b[0m \u001b[0;34m==\u001b[0m \u001b[0;36m1\u001b[0m\u001b[0;34m:\u001b[0m\u001b[0;34m\u001b[0m\u001b[0m\n",
      "\u001b[0;31mKeyboardInterrupt\u001b[0m: "
     ],
     "output_type": "error"
    }
   ],
   "source": [
    "from sklearn.model_selection import GridSearchCV\n",
    "from sklearn.feature_extraction.text import TfidfTransformer, CountVectorizer\n",
    "from sklearn.ensemble import GradientBoostingClassifier\n",
    "\n",
    "cv1 = CountVectorizer(ngram_range=(1,2))\n",
    "xx = cv1.fit_transform(x_train.name)\n",
    "xx_test = cv1.transform(x_test.name)\n",
    "text_clf = GradientBoostingClassifier()\n",
    "\n",
    "\n",
    "param_grid=[\n",
    "    {\"min_samples_leaf\":[2],\n",
    "     #\"n_estimators\":[100,200,300,500],\n",
    "     #\"max_depth\":[2,3,4,5,6]\n",
    "    }\n",
    "\n",
    "]\n",
    "\n",
    "grid_search=GridSearchCV(text_clf, param_grid, cv=2, scoring=\"roc_auc\")\n",
    "grid_search.fit(xx, y_train)\n",
    "print(grid_search.best_score_)\n",
    "grid_search.best_params_"
   ]
  },
  {
   "cell_type": "code",
   "execution_count": 29,
   "metadata": {
    "collapsed": true
   },
   "outputs": [
    {
     "data": {
      "image/png": "[encoded data removed]",
      "text/plain": [
       "<Figure size 432x288 with 1 Axes>"
      ]
     },
     "metadata": {},
     "output_type": "display_data"
    }
   ],
   "source": [
    "\n",
    "\n",
    "\n",
    "#predict = text_clf.predict_proba(x_test.name)\n",
    "predict = text_clf.predict_proba(xx_test)\n",
    "plot_roc_curve(y_test, predict[:,1])"
   ]
  },
  {
   "cell_type": "code",
   "execution_count": 43,
   "metadata": {},
   "outputs": [
    {
     "data": {
      "text/plain": [
       "array([[1, 2],\n       [3, 4],\n       [5, 6],\n       [7, 8]])"
      ]
     },
     "execution_count": 43,
     "metadata": {},
     "output_type": "execute_result"
    }
   ],
   "source": [
    "a = np.array([[1,2],[3,4]])\n",
    "b = np.array([[5,6],[7,8]])\n",
    "np.r_[a,b]"
   ]
  },
  {
   "cell_type": "code",
   "execution_count": 61,
   "metadata": {},
   "outputs": [
    {
     "name": "stdout",
     "output_type": "stream",
     "text": [
      "<class 'pandas.core.frame.DataFrame'>\nInt64Index: 170179 entries, 200000 to 370178\nData columns (total 2 columns):\nname           170175 non-null object\ndescription    170179 non-null object\ndtypes: object(2)\nmemory usage: 3.9+ MB\n"
     ]
    }
   ],
   "source": [
    "test.info()\n"
   ]
  },
  {
   "cell_type": "code",
   "execution_count": 10,
   "metadata": {},
   "outputs": [],
   "source": [
    "from sklearn.pipeline import Pipeline\n",
    "from scipy import sparse\n",
    "from sklearn.ensemble import VotingClassifier\n",
    "from sklearn.svm import LinearSVC\n",
    "from sklearn.linear_model import SGDClassifier\n",
    "from sklearn.model_selection import GridSearchCV\n",
    "from sklearn.feature_extraction.text import TfidfTransformer, CountVectorizer\n",
    "from sklearn.linear_model import LogisticRegression\n",
    "from sklearn.ensemble import GradientBoostingClassifier\n",
    "from sklearn.ensemble import RandomForestClassifier\n",
    "\n",
    "from sklearn.decomposition import TruncatedSVD\n",
    "\n",
    "\n",
    "\n",
    "cv1=CountVectorizer(ngram_range=(1,3))\n",
    "    \n",
    "\n",
    "\n",
    "cv2=CountVectorizer(ngram_range=(1,3))\n",
    "   \n",
    "\n",
    "target1 = cv1.fit(train[\"description\"][train.target==1])\n",
    "target0 = cv2.fit(train[\"description\"][train.target==0])"
   ]
  },
  {
   "cell_type": "code",
   "execution_count": 11,
   "metadata": {
    "collapsed": true
   },
   "outputs": [
    {
     "data": {
      "text/plain": [
       "{'пользователь опыт совершение',\n 'неограниченный условие для',\n 'рост именно группа',\n 'футболка майка проч',\n 'считаться новичок',\n 'консультирование обязательный требование',\n 'третий пельменный',\n 'полимер строительный материал',\n 'сувенирный флористический продукция',\n 'энтузиазм умение учиться',\n 'програм офіційне працевлаштування',\n 'весь страшно для',\n 'anchor vision подшипник',\n 'продукция ита',\n 'aramis дизайнерский аромат',\n 'выходной выплата без',\n 'зарплата осень',\n 'бумажка работа',\n 'сегмент формирование стратегия',\n 'поставка продукция территория',\n 'продажа итальянский немецкий',\n 'сотрудник проводить профессиональный',\n 'продажа учет звонок',\n 'задержка смена дружный',\n 'магазин адрес козлов',\n 'бренд электротехнический продукция',\n 'амортизация рыночный',\n 'выставлять они',\n 'осуществление испытание продукт',\n 'дикий орхидея желание',\n 'важный место где',\n 'рукав знать',\n 'dell желательно',\n 'покупатель отдел выполнение',\n 'запас внимательность умение',\n 'магазин органический продукт',\n 'витэкс находиться адрес',\n 'формирование подарочный',\n 'активность выделять территория',\n 'качество стабильность поставка',\n 'консультация большой объем',\n 'увлекаться спорт разделять',\n 'работа без скрытый',\n 'также азс умение',\n 'маркетинговый отдел построение',\n 'brands please',\n 'акт сверка обеспечение',\n 'карьерный рабочий',\n 'воспитанный готовый работать',\n 'ключевой клиент транснациональный',\n 'один дело другой',\n 'задача административно',\n 'деятельность окно',\n 'щодня згідно завдання',\n 'политика нацеливать привлечение',\n 'государственный заказчик единый',\n 'направленный предложение',\n 'решение поддержание лояльность',\n 'рынок расширение линейка',\n 'ответственность трудолюбие быстрый',\n 'готовый развитие успех',\n 'состав мотивация',\n 'газфонд пенсионный',\n 'гсм корп мобильный',\n 'каждый овладевать навык',\n 'желательно мебель грамотный',\n 'москва центр метро',\n 'яндекс internet',\n 'прирост продажа достижение',\n 'ценовый аудит',\n 'работать вкладываться учиться',\n 'желательно мороженое ответственность',\n 'дом простой структура',\n 'кто restпублика дэш',\n 'присоединяться возможно искать',\n 'kzt компенсация гсм',\n 'производство счетчик',\n 'отношение между человек',\n 'ежеквартальный всегда',\n 'супервайзер водительский право',\n 'отдел производить начало',\n 'черкесия функция',\n 'соединение головной гарнитур',\n 'калуга большой база',\n 'золотой полк дмп',\n 'штатный юрист холодный',\n 'водіння водійські правый',\n 'существующий оператор связь',\n 'проблема клиент рекламный',\n 'кто любить много',\n 'офис торговля',\n 'возникновение участие при',\n 'знание рынок легкий',\n 'эффективный менеджер готовый',\n 'прибыль увеличение объем',\n 'результат дополнительный квартальный',\n 'директор eurasia global',\n 'они торговый точка',\n 'результат скучать если',\n 'clips bonding and',\n 'интерес современный телекоммуникационный',\n 'прибор конкурент комплектация',\n 'команда международный производитель',\n 'прямой поставщик ваш',\n 'резюме емайл дождаться',\n 'опрос клиент после',\n 'ключевой направление розничный',\n 'урал профессиональный косметика',\n 'клиентский база развитой',\n 'печер официальный',\n 'вознаграждение новый клиент',\n 'список работа строго',\n 'coffee shops responsibilities',\n 'stayer kraftool grinda',\n 'соль плюс',\n 'ооо синергия',\n 'действие продажа',\n 'одежда стремиться новый',\n 'эффективный работа компетенция',\n 'создание фундамент',\n 'совокупность руб минимальный',\n 'поддержание продажа высокий',\n 'группа работа канал',\n 'лицо готовый холодный',\n 'продвижение продукция зто',\n 'проблема любить приятный',\n 'работать основной направление',\n 'laurel',\n 'успешный ученик платить',\n 'самостоятельность самомотивация целеустремленность',\n 'бесплатный перекус',\n 'умение системно оценивать',\n 'выделять продуктовый направление',\n 'так назначение',\n 'реклама клиент составлять',\n 'работа свободный ориентирование',\n 'сейчас работать результат',\n 'совмещать работа очный',\n 'нужно нескромно если',\n 'главный требование вежливость',\n 'моющий средство расходный',\n 'финансовый кредитный учреждение',\n 'приходить замечательный',\n 'торговый точка отгрузка',\n 'смочь любой заказчик',\n 'обед красивый форма',\n 'место работа пересечение',\n 'контроль мотивация анализ',\n 'лицо светланский',\n 'дело нужный только',\n 'направление ялуторвский',\n 'вакансия сайт интернет',\n 'аналитический способность скрупулезность',\n 'партнер компания территория',\n 'ривьера автозаводский тульский',\n 'bb спецодежда',\n 'офис спб отчетность',\n 'замок или',\n 'продажа работа массив',\n 'действующий автоцентр малярный',\n 'продажа развитие действующий',\n 'отгрузка товар группа',\n 'отправка продукция правило',\n 'значить это значить',\n 'направление бизнес моментальный',\n 'как профессионал желание',\n 'организовывать деятельность ведение',\n 'профессионализм отзывчивость менеджер',\n 'магазин кораллмикро продажа',\n 'разбирать течение',\n 'действующий абонент подключать',\n 'телемаркетинг разработка',\n 'мониторинг рынок лицензионный',\n 'цена ремонт',\n 'противомоскитный',\n 'рынок проч готовность',\n 'дистрибуция мерчендайзинг объем',\n 'мебель астрахань',\n 'российский рынок сотовый',\n 'алтайбрэнд более год',\n 'сторона работник ценить',\n 'функционирование проверка',\n 'план продажа безупречный',\n 'торговый зал впевнение',\n 'который неожиданно понравиться',\n 'скрипт проведение встреча',\n 'ассортимент интересный',\n 'самый большой штат',\n 'предстоять усваивать огромный',\n 'антикварный магазин',\n 'fairs exhibitions and',\n 'одежда нелва приглашать',\n 'этап предоставлять база',\n 'бюджетный продажа формирование',\n 'филиал россия летний',\n 'ахтырский холмская ваш',\n 'продукция контроль предоставление',\n 'октябрьский поле режим',\n 'день предлагать официальный',\n 'информация работа регион',\n 'орех ореховозуево бул',\n 'рязанский направление',\n 'консультант теле ждать',\n 'огнезащитный обработка конструкция',\n 'задолженность поддержка сопровождение',\n 'нацеливать продажа коробочный',\n 'красота все это',\n 'проведение тестирование предоставлять',\n 'янгель строгино',\n 'следующий ступень начальник',\n 'страшить вызов являться',\n 'решать большой задача',\n 'потому что объяснять',\n 'консультация соблюдение стандарт',\n 'скорина итак',\n 'internet образование высокий',\n 'адаптация продукт линия',\n 'мантулинский',\n 'материал сегодняшний',\n 'вск праздник',\n 'точка клиент анализировать',\n 'инновационный технология проявляться',\n 'вверять территория приоритетный',\n 'качественно вести существующий',\n 'ответственность самара область',\n 'доброн бешенковичи приглашать',\n 'работа западный структурированный',\n 'вдохновлять создавать атмосфера',\n 'отдел переговоры построение',\n 'работа сайт регламентировать',\n 'выкладывание товар группа',\n 'цветок также',\n 'возможность как личный',\n 'работа продажа цветок',\n 'клуб также',\n 'комфорт защита',\n 'цена ротация товар',\n 'профессиональный web',\n 'управление персонал открытие',\n 'бесперебойный торговать востребовать',\n 'проект компания принятие',\n 'ведение платежный складской',\n 'оклад бонус представительство',\n 'техника или бытовой',\n 'обеспечение комфортный жизнедеятельность',\n 'стремление развиваться модный',\n 'зал обслуживание контроль',\n 'full find',\n 'оплачивать обучение практика',\n 'выполнять работа комфортный',\n 'конкретный настойчиво наличие',\n 'отгрузка доставка разработка',\n 'свершаться факт',\n 'опыт это подтверждать',\n 'победитель немиг просьба',\n 'магазин открывать свой',\n 'продажа телефонный работа',\n 'спрос организаторский способность',\n 'знание office важный',\n 'сытый гость',\n 'сооружение северозападный',\n 'договоренность отдавать',\n 'lamoda wildberries mamsy',\n 'устройство прогрессивный',\n 'командировка развитый управленческий',\n 'прямой подчинение трудолюбие',\n 'оптовик умение',\n 'микроудорение трудолюбие',\n 'инициатива управлять процесс',\n 'возможный задержка разъездной',\n 'условие конкурентный трудоустройство',\n 'продажа поручительство',\n 'являться ведущий игрок',\n 'взаимодействие составление план',\n 'поиск расчет стоимость',\n 'sales forecast creating',\n 'сертификационный сеть выдавать',\n 'товар ламинат паркетный',\n 'терпеливый общение покупатель',\n 'teams expand ourpartnership',\n 'and able relocate',\n 'услуга после обучение',\n 'оснащение мультимедийный интерактивный',\n 'соискатель продуктовый',\n 'переработка планирование поставка',\n 'срм продажа',\n 'результат показатель устанавливать',\n 'компьютерный техника корпоративный',\n 'договор спецификация деловой',\n 'учет знание pmbok',\n 'доход ежегодный индексация',\n 'система бонус ежеквартальный',\n 'профессионал гарантия эффективность',\n 'год наличие мобильный',\n 'ведущий производитель цифровой',\n 'расширение фирма',\n 'кредитование подбор',\n 'резервирование товар обеспечение',\n 'качественно изучать',\n 'автомобильный комплектующий запчасть',\n 'договор выезжать',\n 'директор магазин итог',\n 'торговля который стремительно',\n 'украшение консультация клиент',\n 'компания удержание развитие',\n 'заключение договор прогрессивный',\n 'после иса менеджер',\n 'вежливость коммуникабельность стремление',\n 'указывать налогообложение рабочий',\n 'звонок работа офис',\n 'доход график выходной',\n 'выполнение график качество',\n 'вс условие оформление',\n 'отчетность продажа автомобиль',\n 'готовый вопрос',\n 'frau vitra',\n 'тренинг компания проводить',\n 'тренинг продажа отличный',\n 'здоровье общительный дружелюбный',\n 'консультування клієнта товар',\n 'пропорциональный количество',\n 'различный уровень активность',\n 'показатель продажа развитие',\n 'душа присоединяться сильный',\n 'продавать литий полимерный',\n 'хороший деньги отправлять',\n 'cooper hunter',\n 'день рамка работа',\n 'магазин стажер',\n 'оформление обязательно предлагать',\n 'желание работать долгий',\n 'переписка формировать',\n 'графіку заробітна',\n 'здоровье обучение база',\n 'работа подработка разный',\n 'покупатель особенность рынок',\n 'каждый разговор важный',\n 'шушар рабочий смена',\n 'горнообогатительный оборудование системный',\n 'построение взаимоотношение ключевой',\n 'возможно сокращение месяц',\n 'финансовый риск при',\n 'leader wyser russia',\n 'активность молодой дружный',\n 'that the person',\n 'сосьва',\n 'присутствовать минимальный холодный',\n 'квартальный премия сохранение',\n 'действующий клиент возникать',\n 'представитель желание зарабатывать',\n 'год свыше подчиненный',\n 'groups people customer',\n 'клиент стрессоустойчивость ответственный',\n 'ситуация предоставление отчетность',\n 'новый высота достижение',\n 'так карьерный лестница',\n 'заинтересовывать быть рад',\n 'калинин поэтому',\n 'союзница',\n 'работа представительство успешный',\n 'тренинг тот самый',\n 'обувь одежда бижутерия',\n 'работа сотрудник привлечение',\n 'ликвидация кредитный',\n 'расходный лист осуществление',\n 'соблюдать внутренний дисциплина',\n 'обучение отправлять наш',\n 'территория новочеркасск',\n 'тендерный отдел приглашать',\n 'проведение оценка руководитель',\n 'торговля деятельность работник',\n 'представник постачальник',\n 'каждый заявка график',\n 'оружие продемонстрировать',\n 'дельрус крупный российский',\n 'keep record',\n 'тимирязевский продажа',\n 'работа госзаказчик подготовка',\n 'профильный круглый металлический',\n 'салон узнавать',\n 'обязательный рынок',\n 'расчет доход',\n 'станок промышленный оборудование',\n 'средство объект терминал',\n 'клиентоориентированность доброжелательность внимательность',\n 'умение планировать наличие',\n 'develop implement one',\n 'рост товарооборот специальный',\n 'продавать полезный',\n 'loewe bose',\n 'косметический кабинет',\n 'представитель уметь привлекать',\n 'весь расход соответствие',\n 'зарубежный производитель работать',\n 'возможность ждать полный',\n 'точка квартал',\n 'пунктуальность коммуникабельность активный',\n 'мотивация функциональный обязанность',\n 'подшипник узел',\n 'адаптация центральный',\n 'база заказчик контрагент',\n 'кунцевский возможный командировка',\n 'решение отдел закупка',\n 'профиль клиент работа',\n 'дверь быть ваш',\n 'элементарный техник',\n 'торговый цельномолочный продукция',\n 'карьерный рост трудоустраивать',\n 'позволять расти оставаться',\n 'информирование клиент преимущество',\n 'компания тмк дистрибьюшн',\n 'таможенный союз доверять',\n 'доставка быть отдел',\n 'премиальный работа команда',\n 'увлечение индустрия красота',\n 'являться надежный хранилище',\n 'для дом уметь',\n 'наш клиент косметологический',\n 'период скидка продукция',\n 'basis establish',\n 'работа поток заявка',\n 'департамент rfid',\n 'интересный личность организаторский',\n 'организация семинар мастеркласс',\n 'корпоративный библиотека внешний',\n 'дверь квартира или',\n 'стиль винтажный',\n 'продукт как дополнительный',\n 'формирование контракт организация',\n 'товар заявка возврат',\n 'республика беларусь содержание',\n 'стабильный доплата выполнение',\n 'определение наиболее интересный',\n 'если активный находчивый',\n 'ответственность москва регион',\n 'заинтересованный потенциальный',\n 'рентабельность удовлетворенность клиент',\n 'цель условие место',\n 'гардеробный послепродажный сопровождение',\n 'соц пакет очень',\n 'чтобы обеспечивать равенство',\n 'рассчитывать покупатель подготавливать',\n 'представитель специалист кормление',\n 'паллет конкурент обычно',\n 'selling and sales',\n 'чека обработка оформление',\n 'мерчендайзер контроль работа',\n 'отдел вести месяц',\n 'доведение данный',\n 'покупатель контролировать наличие',\n 'продукт удобный график',\n 'дорога любань копыль',\n 'сочи наш направление',\n 'атмосфера комендантский проспект',\n 'рабочий место максимус',\n 'fashion разделять наш',\n 'получать затрата возмещать',\n 'сонный медленный неуверенный',\n 'клиент продажа технический',\n 'indirect customer',\n 'или сотовый телефон',\n 'общий территория личный',\n 'настрой желание слушать',\n 'направление шелковый штукатурка',\n 'actions necessary support',\n 'тамаша искать только',\n 'learner experience abroad',\n 'кинотеатр требование высокий',\n 'кто брать работа',\n 'блюдо руб оформление',\n 'рынок щебень жби',\n 'самый увеличивать свой',\n 'условие прибыль приносить',\n 'поддерживание теплый отношение',\n 'свойство туристский',\n 'германия украина',\n 'заказчик подбор персонал',\n 'целеустремленный специалист заинтересовывать',\n 'тренинг наличие водительский',\n 'центр позвонить',\n 'добиваться увеличение прибыль',\n 'это все написать',\n 'сайт высокий обучаемость',\n 'администратор менеджер работа',\n 'просвещение галерея',\n 'хорошо уметь делать',\n 'москва продавец',\n 'витебск работа непродовольственный',\n 'пользователь условие сотрудничество',\n 'групповой план продажа',\n 'салон магазин радиодеталь',\n 'офис выполнение план',\n 'дополнительный язык быть',\n 'командировка ставропольский',\n 'дизайнерів консультантів робот',\n 'обслуживание магазин вверять',\n 'рассылка mail требование',\n 'двухуровневый лофт зона',\n 'месяц поддержание чистота',\n 'провожать опрос знание',\n 'рука постоянный полный',\n 'свой временный доставка',\n 'предоставлять юридический услуга',\n 'поставка часовой рабочий',\n 'вв активность',\n 'продукция реализовать оптовый',\n 'понедельник мочь',\n 'карта банк результат',\n 'цум срочно принимать',\n 'требоваться город',\n 'фирма архитектурный',\n 'регион молодой коллектив',\n 'ярославский шоссе волгоградский',\n 'galleria minsk победитель',\n 'новый объект разрешение',\n 'обоснованный выбор вакансия',\n 'речь ответственность желаемый',\n 'флористика знание',\n 'товарный группа торговый',\n 'возможный чтобы быть',\n 'активность ответственность водительский',\n 'распределение план дилер',\n 'сообщать руководитель необходимость',\n 'финансовый лизинг автосалон',\n 'проведение демонстрация заключение',\n 'логопарк шушар новый',\n 'быть присущий честность',\n 'сбыт продукция подписание',\n 'рынок мороженое условие',\n 'качество проведение промежуточный',\n 'мдж данный',\n 'дарить каждый',\n 'задача для торговый',\n 'пума россия объявляться',\n 'программа контроль готовность',\n 'даже африка требоваться',\n 'годовой премиии',\n 'заправка автомобиль газ',\n 'инвентаризация навык учет',\n 'женщина stellar требоваться',\n 'текстиль территория',\n 'база практика',\n 'много работать ради',\n 'гонконг собственный',\n 'тамбов обязанность эффективный',\n 'заказ качество обработка',\n 'касса работа документация',\n 'www mdlz',\n 'документация законодательный база',\n 'департамент сотрудник анализ',\n 'описывать коммуникация между',\n 'kuhn great',\n 'видеть кандидат эффективный',\n 'выдаваться всегда',\n 'лицо компания область',\n 'характер работа рамка',\n 'соискатель связь рост',\n 'посуда электроинструмент',\n 'регулярный обновление ассортимент',\n 'очень приветствоваться остальной',\n 'мероприятие сокращение торговый',\n 'также отчет выполнение',\n 'yourself further',\n 'презентация продажа заключение',\n 'комплексный обеспечение оборудование',\n 'медицина связь открытие',\n 'обучаемость быть быстро',\n 'овощеводство тоо казахский',\n 'работа территория красный',\n 'себя сборка пакет',\n 'популярный австрия продукт',\n 'секьюрити открывать',\n 'federal autorities',\n 'продукция уметь находить',\n 'мобильный приложение соблюдение',\n 'бутилировать вода контейнер',\n 'день неделя полтора',\n 'консультирование пациент фармакологический',\n 'cuborubo это',\n 'возможный некоторый',\n 'база расширение демонстрация',\n 'россия оклад испытательный',\n 'аппарат клиент требоваться',\n 'стоимость проживание месяц',\n 'это работа быстрый',\n 'продукция самбери',\n 'language advanced excel',\n 'одежда активно продавать',\n 'для компания ассортиментный',\n 'дирекция торговый сеть',\n 'убеждать настойчивость упорство',\n 'поддержка банкомат',\n 'лидерский замах',\n 'покупатель детский одежда',\n 'действительность также обращать',\n 'пробуждать себя',\n 'предприятие работать производитель',\n 'навык самостоятельность хороший',\n 'объем выпуск натуральный',\n 'рассылка аналитический справка',\n 'рынок где наш',\n 'начало конец именно',\n 'сервисный услуга уровень',\n 'знание гпк',\n 'специализированный неспециализированный сеть',\n 'мерчендайзинг ожидать знание',\n 'казгурт',\n 'направление курорт знание',\n 'ведущая дистрибьюторский',\n 'бизнес профессиональный обучение',\n 'первый импортер быть',\n 'вроде амбициозность',\n 'любой чем',\n 'контакт информировать ход',\n 'интерьерный рынок иметь',\n 'возможность трудиться хороший',\n 'озеро алаколь вко',\n 'гикать посменный график',\n 'проверка составление договор',\n 'смартфон планшет дополнительный',\n 'аналитический навык структурный',\n 'схватывать лет стремление',\n 'сеть добропекать',\n 'товар поставщик или',\n 'наш требование обязательный',\n 'технология оформление сменный',\n 'европа компания динамично',\n 'хорошо продавать важно',\n 'single mission empower',\n 'продажа хлебный продукция',\n 'карьера продажа скидка',\n 'для установка специальный',\n 'мероприятие компания информирование',\n 'работа высокий оклад',\n 'телефон клиент для',\n 'несанкционированный использование',\n 'марка часовой',\n 'самостоятельность позитивность работа',\n 'координатор проект контроль',\n 'роза стекло',\n 'принимать решение любой',\n 'and encourage students',\n 'компания кнопка жизнь',\n 'этап налаживание бизнес',\n 'forbes обязанность открытие',\n 'моральный устойчивость навык',\n 'дилер контракт возможность',\n 'наш специалист распространяться',\n 'красота косметология условие',\n 'стиль работа особенный',\n 'обучение поддержание взаимодействие',\n 'контроль прохождение замер',\n 'салон приглашать команда',\n 'каждый постоянно',\n 'персональный отчет контроль',\n 'nan nestogen gerber',\n 'готовність відряджень регион',\n 'магазин миль каменный',\n 'материал коммуникативность работоспособность',\n 'отгрузка документооборот отчетность',\n 'товар покупатель принятие',\n 'научный учреждение',\n 'включая требование директива',\n 'бодрый оплата',\n 'знание регламент проведение',\n 'так как последний',\n 'офис сеница близкий',\n 'вв нужный',\n 'consultancy research',\n 'офис ростовнадону требоваться',\n 'самостоятельность самоорганизованность ответственность',\n 'фроловский обязанность',\n 'инициативный запрос иностранный',\n 'продукция мелкий ремонт',\n 'эльмаша наличие автомобиль',\n 'предприятие ноreca',\n 'питание контроль дебиторский',\n 'давать характеристика',\n 'договариваться планировать',\n 'недвижимость обладать невероятный',\n 'сбор тренинг старый',\n 'инструмент совместный бренд',\n 'сотрудник который продавать',\n 'течение неделя официальный',\n 'русфудторг принимать',\n 'improve the account',\n 'schick тоника принцесса',\n 'бижутерия высококачественный',\n 'дилер компания omnicomm',\n 'отправлять письмо находить',\n 'bb сегмент исходить',\n 'собеседование себя офис',\n 'продажа оборудование немецкий',\n 'крупный клиент приходить',\n 'рекламодатель выстраивать клиент',\n 'документация также поддержка',\n 'сбор отпуск товар',\n 'компания работа риелтор',\n 'отвечать ежедневный',\n 'взаимодействие своевременный обмен',\n 'поддержка продажа менее',\n 'управлять продажа наш',\n 'образец документ',\n 'срок доход рубль',\n 'так госструктура объект',\n 'ринка діяльності',\n 'гарантировать договариваться',\n 'вансеть достойно',\n 'автотранспортный предприятие конечный',\n 'автобус мина транспорт',\n 'фискальный гашение',\n 'товарный потеря организовывать',\n 'пиротехника амуниция умение',\n 'авиационный торговый производственный',\n 'рубль час плюс',\n 'перфок лидер',\n 'петрозаводск шуйское',\n 'поддержание региональный направление',\n 'the staff make',\n 'компания учет рабочий',\n 'kateqoriya məhsulların promo',\n 'участие аналитика рынок',\n 'работа метро баррикадный',\n 'верхний диапазон зарплата',\n 'работать превращать свой',\n 'огород лак краска',\n 'поставка высококачественный продукт',\n 'офис расчет условие',\n 'высокий умение решать',\n 'thetadigital com',\n 'андропов торговый',\n 'данные заказ товар',\n 'розница локальный федеральный',\n 'этот отдел заработный',\n 'рост управляющий бесплатный',\n 'допродажа подготовка',\n 'информационный mail',\n 'образование владение инструментарий',\n 'отработанный время течение',\n 'год колибри',\n 'для прогрузка',\n 'салон создание контроль',\n 'салон центральный магистраль',\n 'игрушка навязывать',\n 'услуга оборудование иметься',\n 'карта банк раз',\n 'территория обслуживание сетевой',\n 'отдел кмс развитие',\n 'пошлина страховка',\n 'посаді торговый',\n 'клиент переговоры организация',\n 'сантехника молодой',\n 'знать сам занятие',\n 'убеждать договариваться практичный',\n 'желание развиваться обучать',\n 'офис адрес дорожный',\n 'отчетность привлечение новый',\n 'сопровождение выставление',\n 'регулярный открытие новый',\n 'если стабильный',\n 'клиент производить поставка',\n 'витрать житло',\n 'контакт непосредственный',\n 'онлайн подписка ритейл',\n 'автозаказ формирование',\n 'рынок повышать',\n 'регион работать уже',\n 'так открывать вакансия',\n 'престижный образование хороший',\n 'отгрузка ассортимент',\n 'моп регламент продукт',\n 'обязательный обучение продукция',\n 'рука находиться адрес',\n 'радушно улыбка',\n 'заказ одновременно грамотный',\n 'дистрибьютор поставщик игрушка',\n 'выполнение сторона торговый',\n 'хороший результат стремительный',\n 'построение отчетность отличный',\n 'рост шесть',\n 'расчет данные перезаключение',\n 'предстоять заниматься личный',\n 'циркон cocr требоваться',\n 'мой электронный',\n 'течь проект отвечать',\n 'любой товар китай',\n 'соискатель просить откликаться',\n 'продажа формирование удержание',\n 'ситуация умение убеждать',\n 'увеличение продажа обработка',\n 'они обеспечение развитие',\n 'руководящий позиция желательно',\n 'wec ждать хороший',\n 'комфортно пытаться',\n 'рука вычищать',\n 'отчетность инкассация работа',\n 'теннис фигурный катание',\n 'мебель эффективный',\n 'пилотный проект gtm',\n 'заканчивать условие оклад',\n 'беларусь наличие высокий',\n 'excel мобильность условие',\n 'любимый студия',\n 'инициативность масштабность',\n 'дружный семья создавать',\n 'выставление цветок вода',\n 'охранный услуга участие',\n 'белгород отслеживание',\n 'выдача товар развитие',\n 'продукция услуга отечественный',\n 'индивидуальный опытный',\n 'территория так близкий',\n 'платеж комплекс банк',\n 'точка офис клиент',\n 'товар брак поддержание',\n 'способность воспринимать анализировать',\n 'такой задача справляться',\n 'торговый представитель клиентский',\n 'требовать предварительный знание',\n 'гос муниципальный торги',\n 'нефтегазовый отрасль продажа',\n 'переговоры клиент госсектор',\n 'исправность торговый',\n 'торговый марка считать',\n 'класс люкс кухонный',\n 'два часть фиксированный',\n 'планировать сделка тот',\n 'результативность дисциплина организованность',\n 'система развитие включать',\n 'деньги выплачиваться еженедельно',\n 'низко указывать',\n 'анализ технологический коммерческий',\n 'основной принц формирование',\n 'рынок bb работать',\n 'оборудование газовый хроматография',\n 'касса частично',\n 'представитель умение работать',\n 'галамарт опытный',\n 'концерн lvmh louis',\n 'дилер формирование',\n 'практика владеть навык',\n 'зрение ведение кассовый',\n 'желающий зарабатывать деньги',\n 'продажа растение садовый',\n 'дружный компания подробный',\n 'для тендер оформлять',\n 'вирішення поточний адміністративних',\n 'замовленний господарчиха товарів',\n 'комплекс аналогичный должность',\n 'предложение клиент замена',\n 'сфера продажа появляться',\n 'хозяйство тоо карагандинский',\n 'здесь можно расслабляться',\n 'house cropp',\n 'творческий инженерный',\n 'система электрический обогрев',\n 'event менеджер заниматься',\n 'шоу техника казахстан',\n 'центр сэц центр',\n 'вид деловой стиль',\n 'максид гражданский',\n 'день полностью выходной',\n 'кондитерская отпекать',\n 'общительный энергичный многозадачный',\n 'выходной воскресение зарплата',\n 'помогать человек поставлять',\n 'связь телефон фирма',\n 'проверять мировой компания',\n 'регулировать анализировать',\n 'работа работа торговля',\n 'умение быстро подбирать',\n 'встреча решение проблемный',\n 'год славиться высокий',\n 'социальный группа человек',\n 'распродажа требование отличный',\n 'результат оптимизм проактивный',\n 'считаться автомат',\n 'для информирование новинка',\n 'желание встречать',\n 'зал уметь готовить',\n 'работа врач эко',\n 'товар особенность продажа',\n 'закрепляться список',\n 'требование контроль срок',\n 'отчетность отслеживание наличие',\n 'данные дистрибьютер выгрузка',\n 'номенклатура личный качество',\n 'информация каждый торговый',\n 'база рынок сбыт',\n 'скрипт обход',\n 'парадигма восприятие',\n 'продажа путевка',\n 'заказ рекламация экспортный',\n 'работа суммарный доход',\n 'этот магазин один',\n 'выезжать приходиться офисный',\n 'фитнес бассейн вакцинация',\n 'работа плавать оплата',\n 'доход фиксированный окладной',\n 'услуга свой компания',\n 'первый неудача если',\n 'фотопродакшн полный',\n 'помощь который определять',\n 'клиент электротовары технический',\n 'ооо чистый город',\n 'любить человек сотрудник',\n 'транспорт электросталь',\n 'больничный согласно оборудовать',\n 'база sap дилерский',\n 'для беседа уже',\n 'для сайт ыполнять',\n 'показатель качество креативный',\n 'термокит',\n 'торговый сфера организаторский',\n 'сотрудник администрирование отдел',\n 'условие компания генеральский',\n 'booking ostrovok apartator',\n 'розничный касса',\n 'топливо стартовый клиентский',\n 'стрессоустойчивость позитивность внимание',\n 'передвижение между торговый',\n 'чем достойный доход',\n 'вид натуральный',\n 'коммерческий результативный переговоры',\n 'рост соцгарантия',\n 'хороший вкус пространственный',\n 'общение позитив интеллект',\n 'учреждение обязанность организация',\n 'ключ опыт продажа',\n 'организованность условие многозадачность',\n 'торговый оборудование надлежащий',\n 'поддерживать диалог изъясняться',\n 'сам изготавливать',\n 'расход вакансия открывать',\n 'команда юня',\n 'касса раскладка',\n 'предполагаться клиент обращаться',\n 'откликаться вакансия январь',\n 'процент ключевой',\n 'младенец',\n 'условие оклад удобный',\n 'інвентаризацій аналіз результатів',\n 'магазин директор розничный',\n 'оборудование профильность промышленный',\n 'сотрудник качественный продукт',\n 'вопрос образование условие',\n 'ккм программа кассовый',\n 'северо запад приглашать',\n 'который можно летать',\n 'канатный продукция поиск',\n 'сфера эпб отсутствие',\n 'минск аеропорт минск',\n 'заключение договор ценообразование',\n 'call центр входить',\n 'база клієнтів здийсненний',\n 'приветствовать компания инструмент',\n 'ассортимент подддержание',\n 'розница обязательно личный',\n 'оборудование сегмент государственный',\n 'аргументированный убеждение клиент',\n 'сравнение предыдущий успех',\n 'мобильный связь танспорт',\n 'санитарный книжка вежливость',\n 'порядочность внимательность уверять',\n 'вид пунктуальность инициативность',\n 'опыт наставничество развивать',\n 'также просить обращать',\n 'предлагать вакансия присоединяться',\n 'внимательность честность ответственность',\n 'отсутствовать посещать',\n 'удовольствие продаваться легко',\n 'агент обязанный проводить',\n 'объект минск контроль',\n 'натуральный камень гранит',\n 'переплата основной',\n 'инженер приемщик составление',\n 'культура проживать разный',\n 'посещать наш кафе',\n 'магазин propaganda работа',\n 'витрина обслуживать покупатель',\n 'редактирование договор подготовка',\n 'условие обязанность обрабатывать',\n 'сантехника метиз года',\n 'элетеха специализироваться',\n 'просто сторож',\n 'сталь коррозионностойкий жаропрочный',\n 'agreements loi',\n 'дополнительный плюс предлагать',\n 'подчиненный так своевременный',\n 'работа цветок рассматриваться',\n 'планшет синхронизация контроль',\n 'изначально это',\n 'магазин автоэлектроника',\n 'формироваться база crm',\n 'получение клиент проведение',\n 'умение договариваться желательно',\n 'красота ждать тот',\n 'знание упп желательный',\n 'классический так современный',\n 'уручье маршрутка',\n ...}"
      ]
     },
     "execution_count": 11,
     "metadata": {},
     "output_type": "execute_result"
    }
   ],
   "source": [
    "from sklearn.metrics.pairwise import cosine_distances\n",
    "import matplotlib.pyplot as plt\n",
    "# t1=np.mean(target1, axis=1)\n",
    "# t2=np.mean(target1, axis=1)\n",
    "# \n",
    "# \n",
    "# print(t1.shape, t2.shape)\n",
    "# \n",
    "# #cosine_distances(t1,t2)\n",
    "# np.dot(t1,t2)/(np.linalg.norm(t2)*np.linalg.norm(t1))\n",
    "# \n",
    "# \n",
    "# plt.imshow(target1, cmap=plt.cm.jet, \n",
    "#                 interpolation='nearest')\n",
    "\n",
    "\n",
    "v1= set(cv1.vocabulary_.keys())\n",
    "v0= set(cv2.vocabulary_.keys())\n",
    "\n",
    "diff = v1.difference(v0)\n",
    "diff"
   ]
  },
  {
   "cell_type": "code",
   "execution_count": 16,
   "metadata": {},
   "outputs": [],
   "source": [
    ""
   ]
  },
  {
   "cell_type": "code",
   "execution_count": 4,
   "metadata": {},
   "outputs": [],
   "source": [
    "from gensim.models.word2vec import Word2Vec\n",
    "from bs4 import BeautifulSoup\n",
    "import numpy as np\n",
    "import gensim, logging\n",
    "from gensim.models import KeyedVectors\n",
    "\n",
    "\n",
    "model = gensim.models.Word2Vec.load(\"trained.vec\")"
   ]
  },
  {
   "cell_type": "code",
   "execution_count": 9,
   "metadata": {},
   "outputs": [
    {
     "name": "stderr",
     "output_type": "stream",
     "text": [
      "/home/anama/anaconda3/lib/python3.6/site-packages/ipykernel_launcher.py:1: DeprecationWarning: Call to deprecated `most_similar` (Method will be removed in 4.0.0, use self.wv.most_similar() instead).\n  \"\"\"Entry point for launching an IPython kernel.\n"
     ]
    },
    {
     "data": {
      "text/plain": [
       "[('пекарь', 0.7241772413253784),\n ('кондитер', 0.5822538137435913),\n ('хлеб', 0.5754527449607849),\n ('блюдо', 0.572243332862854),\n ('пекарня', 0.549362063407898),\n ('пирог', 0.5390167236328125),\n ('шаурма', 0.5323458313941956),\n ('приготовление', 0.5230066776275635),\n ('блин', 0.5225552320480347),\n ('торт', 0.5223839282989502)]"
      ]
     },
     "execution_count": 9,
     "metadata": {},
     "output_type": "execute_result"
    }
   ],
   "source": [
    "model.most_similar(\"повар\")"
   ]
  },
  {
   "cell_type": "code",
   "execution_count": 10,
   "metadata": {},
   "outputs": [
    {
     "name": "stderr",
     "output_type": "stream",
     "text": [
      "/home/anama/anaconda3/lib/python3.6/site-packages/ipykernel_launcher.py:1: DeprecationWarning: Call to deprecated `__getitem__` (Method will be removed in 4.0.0, use self.wv.__getitem__() instead).\n  \"\"\"Entry point for launching an IPython kernel.\n"
     ]
    },
    {
     "data": {
      "text/plain": [
       "array([-0.01086583, -0.06303524,  0.02211535, -0.03350938, -0.05092675,\n       -0.00517502,  0.05572917, -0.12635873, -0.0637551 , -0.01009358,\n        0.08688755, -0.07863748,  0.06476656, -0.02690674, -0.0550332 ,\n        0.01618182,  0.03560223,  0.03861142, -0.08817384, -0.02538588,\n       -0.01273433, -0.00507258,  0.1556612 ,  0.05838021,  0.05856981,\n       -0.1208516 ,  0.02237488, -0.0671799 , -0.02385842,  0.09956148,\n       -0.0426742 , -0.05985599, -0.04116195, -0.00847354, -0.07149509,\n       -0.06929099,  0.02913754,  0.02326285,  0.03960876,  0.09352991,\n        0.02867395,  0.02439398,  0.03633046,  0.04893131, -0.03945645,\n       -0.0540619 ,  0.05639863,  0.09488185,  0.09507784,  0.02595543,\n        0.08406439,  0.04749672,  0.05821823,  0.03447651,  0.0390955 ,\n       -0.00761864, -0.06051956,  0.01516179, -0.00290731,  0.12386443,\n        0.04520094, -0.00904637,  0.01194393,  0.01656557, -0.01025391,\n        0.04914593, -0.01762841, -0.05950118,  0.11790302,  0.02681138,\n       -0.06946915,  0.01025855,  0.11593062, -0.05923299, -0.04263134,\n        0.02083379,  0.06049972,  0.04066032, -0.05864401, -0.0104978 ,\n       -0.01017539,  0.01503031, -0.10003774, -0.00942692,  0.10173425,\n        0.01128657,  0.13079832, -0.05589863,  0.01229012,  0.11555707,\n       -0.02882414,  0.06979335,  0.01703711,  0.00697963,  0.02429557,\n        0.03465545, -0.02911388,  0.06678037, -0.00256696, -0.10308658,\n       -0.07838827,  0.01231986,  0.00728233, -0.02245653,  0.03856594,\n       -0.03310627, -0.03335498, -0.04871694,  0.0370023 , -0.07525475,\n       -0.01190303,  0.00936978,  0.06051433, -0.06083953, -0.04155449,\n       -0.04450803, -0.07263173, -0.01958062, -0.06199737, -0.02688727,\n       -0.00726296, -0.03191604,  0.03459027, -0.00329472, -0.04066271,\n        0.04766058,  0.00495379,  0.01360345, -0.06241301,  0.00746871,\n        0.04159444, -0.09903392, -0.0318434 ,  0.05973575, -0.04240575,\n       -0.02803765,  0.09804322, -0.08201151, -0.01828238, -0.03991247,\n       -0.03539968,  0.03863138, -0.06754614, -0.05100033, -0.07437048,\n        0.06359608, -0.08548166, -0.00936526, -0.03666744, -0.01114945,\n       -0.05060156, -0.02046461, -0.0896363 , -0.02691708,  0.02017155,\n       -0.04600426, -0.08549988, -0.00252792, -0.05132595,  0.06596875,\n       -0.10068621,  0.06314249, -0.01439377,  0.01385874, -0.0947404 ,\n        0.05547471,  0.04551964, -0.06166007,  0.05873402,  0.05238836,\n        0.01341367,  0.02261956, -0.02719845,  0.00759937,  0.02622042,\n        0.04565189, -0.03750201, -0.08364245,  0.02651759, -0.02400201,\n        0.00878663, -0.05765655, -0.03363936, -0.11827443,  0.03299578,\n       -0.07286867,  0.03559258, -0.00833009,  0.04062468, -0.04140648,\n        0.07185496, -0.01491147,  0.04522653, -0.04990071, -0.04769095,\n        0.05987944, -0.02948477,  0.04532984, -0.05375675,  0.00216186,\n        0.03934511, -0.04895322, -0.02431932,  0.04821125, -0.05931616,\n        0.07997879, -0.04346106, -0.02975084, -0.01958715, -0.10253481,\n        0.10400364,  0.00223456,  0.00099056, -0.05536675,  0.01439173,\n       -0.01633819, -0.02447833, -0.13151968, -0.03381428, -0.02322281,\n       -0.05182   ,  0.01719043,  0.04869208,  0.12142794, -0.01372793,\n       -0.01046489, -0.0721256 ,  0.06957942, -0.0199195 ,  0.02011313,\n        0.07959532,  0.09594306, -0.02189498,  0.01396251,  0.06432691,\n       -0.01323414, -0.04532557,  0.02434136, -0.10852455,  0.09161188,\n       -0.0123022 ,  0.0077941 , -0.07645725,  0.11239532,  0.04205129,\n       -0.06810404, -0.13750234,  0.03074616,  0.03960534,  0.00240251,\n        0.01218484,  0.01564846,  0.01261745,  0.0053182 , -0.03204226,\n       -0.00322517,  0.0502874 , -0.02909203, -0.14395978, -0.00447782,\n       -0.09095857,  0.12756082, -0.09693523,  0.12412567,  0.01748016,\n        0.03951598,  0.08171823, -0.03360863,  0.01581231,  0.02195235,\n       -0.04208549, -0.04329132,  0.05463554,  0.02905537,  0.13710219,\n       -0.10122684,  0.11166365,  0.07977192, -0.04825551, -0.01149761,\n       -0.00166049,  0.01586499, -0.02018186, -0.02123186,  0.06304301,\n       -0.08029922,  0.01885   ,  0.04457762, -0.10078672, -0.02236895,\n       -0.00550726, -0.05567279, -0.06797972, -0.01718941, -0.09871612,\n        0.03241529, -0.01527403, -0.12755221, -0.07410286,  0.01676615], dtype=float32)"
      ]
     },
     "execution_count": 10,
     "metadata": {},
     "output_type": "execute_result"
    }
   ],
   "source": [
    "model[\"повар\"]"
   ]
  },
  {
   "cell_type": "code",
   "execution_count": 18,
   "metadata": {},
   "outputs": [],
   "source": [
    "def text_to_vec(words, model: Word2Vec, size):\n",
    "    text_vec = np.zeros((size,), dtype=\"float32\")\n",
    "    n_words = 0\n",
    "\n",
    "    index2word_set = set(model.wv.vocab)\n",
    "    for word in words:\n",
    "        if word in index2word_set:\n",
    "            n_words = n_words + 1\n",
    "            text_vec = np.add(text_vec, model[word])\n",
    "    \n",
    "    if n_words != 0:\n",
    "        text_vec /= n_words\n",
    "    return text_vec\n"
   ]
  },
  {
   "cell_type": "code",
   "execution_count": 22,
   "metadata": {},
   "outputs": [
    {
     "name": "stderr",
     "output_type": "stream",
     "text": [
      "/home/anama/anaconda3/lib/python3.6/site-packages/ipykernel_launcher.py:9: DeprecationWarning: Call to deprecated `__getitem__` (Method will be removed in 4.0.0, use self.wv.__getitem__() instead).\n  if __name__ == '__main__':\n"
     ]
    },
    {
     "data": {
      "text/plain": [
       "(300,)"
      ]
     },
     "execution_count": 22,
     "metadata": {},
     "output_type": "execute_result"
    }
   ],
   "source": [
    "text_to_vec([\"программист\", \"java\"], model, 300).shape"
   ]
  },
  {
   "cell_type": "code",
   "execution_count": 27,
   "metadata": {},
   "outputs": [
    {
     "data": {
      "text/plain": [
       "['обязанность',\n 'работа',\n 'токарный',\n 'станок',\n 'чпу',\n 'takisana',\n 'turn',\n 'cnjqrf',\n 'fanuc',\n 'токарный',\n 'фрезерный',\n 'станок',\n 'чпу',\n 'стойка',\n 'fanuc',\n 'series',\n 'опыт',\n 'работа',\n 'освоение',\n 'деталь',\n 'требовния',\n 'опыт',\n 'работа',\n 'станочный',\n 'оборудование',\n 'внимательность',\n 'разряд',\n 'условие',\n 'часовой',\n 'рабочий',\n 'день',\n 'посменно',\n 'неделя',\n 'день',\n 'неделя',\n 'ночь',\n 'график',\n 'проживание',\n 'общежитие',\n 'при',\n 'заселение',\n 'иметь',\n 'себя',\n 'комплект',\n 'постельный',\n 'белье',\n 'посуда',\n 'для',\n 'личный',\n 'пользование',\n 'оформление',\n 'наличие',\n 'флюорография',\n 'выплата',\n 'число',\n 'каждый',\n 'месяц']"
      ]
     },
     "execution_count": 27,
     "metadata": {},
     "output_type": "execute_result"
    }
   ],
   "source": [
    "train.iloc[1,1].split()"
   ]
  },
  {
   "cell_type": "code",
   "execution_count": 28,
   "metadata": {},
   "outputs": [
    {
     "name": "stderr",
     "output_type": "stream",
     "text": [
      "/home/anama/anaconda3/lib/python3.6/site-packages/ipykernel_launcher.py:9: DeprecationWarning: Call to deprecated `__getitem__` (Method will be removed in 4.0.0, use self.wv.__getitem__() instead).\n  if __name__ == '__main__':\n"
     ]
    }
   ],
   "source": [
    "vec = text_to_vec(train.iloc[1,1].split(), model, 300)"
   ]
  },
  {
   "cell_type": "code",
   "execution_count": 29,
   "metadata": {},
   "outputs": [
    {
     "name": "stderr",
     "output_type": "stream",
     "text": [
      "/home/anama/anaconda3/lib/python3.6/site-packages/ipykernel_launcher.py:1: DeprecationWarning: Call to deprecated `similar_by_vector` (Method will be removed in 4.0.0, use self.wv.similar_by_vector() instead).\n  \"\"\"Entry point for launching an IPython kernel.\n"
     ]
    },
    {
     "data": {
      "text/plain": [
       "[('токарный', 0.6884955167770386),\n ('fanuc', 0.665907621383667),\n ('фрезерный', 0.6389442682266235),\n ('станок', 0.6333286762237549),\n ('разряд', 0.6162296533584595),\n ('чпу', 0.609512448310852),\n ('криволинейный', 0.5943718552589417),\n ('sinumerik', 0.5936703681945801),\n ('координатный', 0.5879606008529663),\n ('плазменный', 0.5859133005142212)]"
      ]
     },
     "execution_count": 29,
     "metadata": {},
     "output_type": "execute_result"
    }
   ],
   "source": [
    "model.similar_by_vector(vec)"
   ]
  },
  {
   "cell_type": "code",
   "execution_count": 48,
   "metadata": {},
   "outputs": [
    {
     "name": "stderr",
     "output_type": "stream",
     "text": [
      "/home/anama/anaconda3/lib/python3.6/site-packages/ipykernel_launcher.py:1: DeprecationWarning: Call to deprecated `most_similar` (Method will be removed in 4.0.0, use self.wv.most_similar() instead).\n  \"\"\"Entry point for launching an IPython kernel.\n"
     ]
    },
    {
     "data": {
      "text/plain": [
       "[('пицца', 0.6783101558685303),\n ('вкусный', 0.5680001974105835),\n ('бар', 0.5109466314315796),\n ('ресторан', 0.5102630257606506),\n ('домой', 0.49209821224212646),\n ('кафе', 0.4901466369628906),\n ('пирог', 0.48081496357917786),\n ('ужин', 0.4725213944911957),\n ('dostaевский', 0.46933937072753906),\n ('кухня', 0.46919190883636475)]"
      ]
     },
     "execution_count": 48,
     "metadata": {},
     "output_type": "execute_result"
    }
   ],
   "source": [
    "model.most_similar(positive=[\"еда\"])"
   ]
  },
  {
   "cell_type": "code",
   "execution_count": 22,
   "metadata": {},
   "outputs": [],
   "source": [
    "from sklearn.base import BaseEstimator, TransformerMixin\n",
    "from gensim.models.word2vec import Word2Vec\n",
    "from bs4 import BeautifulSoup\n",
    "import numpy as np\n",
    "import gensim, logging\n",
    "from gensim.models import KeyedVectors\n",
    "\n",
    "\n",
    "class Word2VecTransformer(BaseEstimator, TransformerMixin):\n",
    "    def __init__(self, model: Word2Vec, size):\n",
    "        self.model = model\n",
    "        self.size = size\n",
    "        self.transformer = lambda x: Word2VecTransformer.text_to_vec(x.split(), self.model, self.size)\n",
    "    \n",
    "    def fit(self, X, y=None):\n",
    "        return self\n",
    "    \n",
    "    def transform(self, X , y=None):\n",
    "        return np.array([self.transformer(x) for x in X.ravel()]).reshape((-1,self.size))\n",
    "        \n",
    "        \n",
    "    \n",
    "    @staticmethod\n",
    "    def text_to_vec(words, model: Word2Vec, size):\n",
    "        text_vec = np.zeros((size,), dtype=\"float32\")\n",
    "        n_words = 0\n",
    "    \n",
    "        index2word_set = set(model.wv.vocab)\n",
    "        for word in words:\n",
    "            if word in index2word_set:\n",
    "                n_words = n_words + 1\n",
    "                text_vec = np.add(text_vec, model[word])\n",
    "        \n",
    "        if n_words != 0:\n",
    "            text_vec /= n_words\n",
    "        return text_vec\n",
    "    \n",
    "    \n",
    "\n",
    "\n",
    "\n",
    "# transformer = Word2VecTransformer(model, 300)\n",
    "# X = np.array([[\"Требуется токарь второго разряда на завод\"],[\"Требуется Java программист со знанием jee, spring, sql\"]])\n",
    "#             \n",
    "# transformer.fit_transform(X)\n",
    "#       \n",
    "        "
   ]
  },
  {
   "cell_type": "code",
   "execution_count": 27,
   "metadata": {},
   "outputs": [
    {
     "name": "stderr",
     "output_type": "stream",
     "text": [
      "/home/anama/anaconda3/lib/python3.6/site-packages/ipykernel_launcher.py:34: DeprecationWarning: Call to deprecated `__getitem__` (Method will be removed in 4.0.0, use self.wv.__getitem__() instead).\n"
     ]
    },
    {
     "data": {
      "text/plain": [
       "LogisticRegression(C=5, class_weight=None, dual=False, fit_intercept=True,\n          intercept_scaling=1, max_iter=100, multi_class='ovr', n_jobs=1,\n          penalty='l2', random_state=None, solver='liblinear', tol=0.0001,\n          verbose=0, warm_start=False)"
      ]
     },
     "execution_count": 27,
     "metadata": {},
     "output_type": "execute_result"
    }
   ],
   "source": [
    "from sklearn.pipeline import Pipeline\n",
    "from scipy import sparse\n",
    "from sklearn.ensemble import VotingClassifier\n",
    "from sklearn.svm import LinearSVC\n",
    "from sklearn.linear_model import SGDClassifier\n",
    "from sklearn.model_selection import GridSearchCV\n",
    "from sklearn.feature_extraction.text import TfidfTransformer, CountVectorizer\n",
    "from sklearn.linear_model import LogisticRegression\n",
    "from sklearn.ensemble import GradientBoostingClassifier\n",
    "from sklearn.ensemble import RandomForestClassifier\n",
    "\n",
    "from sklearn.decomposition import TruncatedSVD\n",
    "\n",
    "model = gensim.models.Word2Vec.load(\"trained.vec\")\n",
    "\n",
    "with open(\"stop_words\", \"rt\") as fp:\n",
    "    stop_words = set(fp.readlines())\n",
    "\n",
    "\n",
    "pipe1 = Pipeline([\n",
    "    (\"cv\", CountVectorizer(ngram_range=(1, 3))),\n",
    "    (\"tfidf\", TfidfTransformer())\n",
    "])\n",
    "\n",
    "pipe2 = Pipeline([\n",
    "    #(\"cv\", CountVectorizer(min_df=0.1, max_df=0.6, ngram_range=(1, 3), stop_words=stop_words)),\n",
    "    #(\"tfidf\", TfidfTransformer()),\n",
    "   # ('pca', TruncatedSVD(n_components=150))\n",
    "    (\"w2v\", Word2VecTransformer(model, 300))\n",
    "])\n",
    "\n",
    "x1 = pipe1.fit_transform(x_train.name)\n",
    "x1_test = pipe1.transform(x_test.name)\n",
    "\n",
    "x2 = pipe2.fit_transform(x_train[\"description\"])\n",
    "x2_test = pipe2.transform(x_test[\"description\"])\n",
    "\n",
    "xx = sparse.hstack((x1,x2))\n",
    "xx_test =sparse.hstack((x1_test, x2_test))\n",
    "\n",
    "# text_clf = VotingClassifier(voting='soft', estimators=[\n",
    "#     ('lrc', LogisticRegression(C=5)),\n",
    "#     ('sgd', SGDClassifier(loss=\"log\")),\n",
    "#     ('rfc', RandomForestClassifier(max_depth=15, max_leaf_nodes=28)),\n",
    "#     ('gbm',GradientBoostingClassifier(min_samples_leaf=20, max_features=\"sqrt\", n_estimators=200))\n",
    "# ])\n",
    "\n",
    "text_clf = LogisticRegression(C=5)\n",
    "\n",
    "text_clf.fit(xx, y_train)\n"
   ]
  },
  {
   "cell_type": "code",
   "execution_count": null,
   "metadata": {},
   "outputs": [],
   "source": []
  }
 ],
 "metadata": {
  "kernelspec": {
   "display_name": "Python 2",
   "language": "python",
   "name": "python2"
  },
  "language_info": {
   "codemirror_mode": {
    "name": "ipython",
    "version": 2
   },
   "file_extension": ".py",
   "mimetype": "text/x-python",
   "name": "python",
   "nbconvert_exporter": "python",
   "pygments_lexer": "ipython2",
   "version": "2.7.6"
  }
 },
 "nbformat": 4,
 "nbformat_minor": 0
}
